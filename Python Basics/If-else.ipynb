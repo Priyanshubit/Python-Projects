{
 "cells": [
  {
   "cell_type": "markdown",
   "id": "7045ee84-0b7b-4256-b9b1-78210864f5c6",
   "metadata": {},
   "source": [
    "# if-else "
   ]
  },
  {
   "cell_type": "code",
   "execution_count": 11,
   "id": "25779829-f6f2-42b6-af2e-5d455dcfb150",
   "metadata": {},
   "outputs": [
    {
     "name": "stdin",
     "output_type": "stream",
     "text": [
      "Enter marks: 30\n"
     ]
    },
    {
     "name": "stdout",
     "output_type": "stream",
     "text": [
      "Fail\n"
     ]
    }
   ],
   "source": [
    "a=int(input(\"Enter marks:\"))\n",
    "\n",
    "if a>=75:\n",
    "    print(\"First Division\")\n",
    "elif(a>=55) and (a<75):\n",
    "    print(\"Second Division\")\n",
    "elif(a<55) and (a>35):\n",
    "    print(\"Third Division\")\n",
    "else:\n",
    "    print(\"Fail\")"
   ]
  },
  {
   "cell_type": "code",
   "execution_count": null,
   "id": "5d66a1dc-39de-423f-83fc-3e58adadcee1",
   "metadata": {},
   "outputs": [],
   "source": []
  },
  {
   "cell_type": "code",
   "execution_count": 14,
   "id": "d1c183ae-9268-47c1-ad67-dcba7fdc131e",
   "metadata": {},
   "outputs": [
    {
     "name": "stdout",
     "output_type": "stream",
     "text": [
      "a==b\n"
     ]
    }
   ],
   "source": [
    "a,b=10,10\n",
    "\n",
    "print(\"a\") if a>b else print(\"a==b\") if a==b else print(\"b\") "
   ]
  },
  {
   "cell_type": "code",
   "execution_count": 15,
   "id": "90ac3b8a-1624-4800-b556-d33ad457ead3",
   "metadata": {},
   "outputs": [],
   "source": [
    "#nested if"
   ]
  },
  {
   "cell_type": "code",
   "execution_count": 20,
   "id": "726f4c45-c35f-444b-a20a-42b7ff398d34",
   "metadata": {},
   "outputs": [
    {
     "name": "stdin",
     "output_type": "stream",
     "text": [
      "Enter the value: 10\n"
     ]
    },
    {
     "name": "stdout",
     "output_type": "stream",
     "text": [
      "Number is less than 20\n"
     ]
    }
   ],
   "source": [
    "a=int(input(\"Enter the value:\"))\n",
    "if(a>20):\n",
    "    print(\"Number is greater than 20\")\n",
    "    if(a>25):\n",
    "        print(\"Number is greater than 25\")\n",
    "    else:\n",
    "        print(\"Number is less than 25\")\n",
    "else:\n",
    "    print(\"Number is less than 20\")"
   ]
  },
  {
   "cell_type": "code",
   "execution_count": null,
   "id": "64028f49-520f-4a8a-9454-5bc6ff10f053",
   "metadata": {},
   "outputs": [],
   "source": []
  },
  {
   "cell_type": "code",
   "execution_count": 21,
   "id": "8633a124-0443-4925-99dc-c236030bbc43",
   "metadata": {},
   "outputs": [
    {
     "name": "stdin",
     "output_type": "stream",
     "text": [
      " 5\n"
     ]
    },
    {
     "name": "stdout",
     "output_type": "stream",
     "text": [
      "1\n",
      "This is iteration number: 1\n",
      "4\n",
      "This is iteration number: 2\n",
      "9\n",
      "This is iteration number: 3\n",
      "16\n",
      "This is iteration number: 4\n",
      "Loop done\n"
     ]
    }
   ],
   "source": [
    "n=int(input())\n",
    "i=1\n",
    "while(i<n):\n",
    "    print(i**2)\n",
    "    print(\"This is iteration number:\",i)\n",
    "    i+=1\n",
    "print(\"Loop done\")"
   ]
  },
  {
   "cell_type": "code",
   "execution_count": null,
   "id": "64305361-8a00-4099-a2f2-e50ad0547a49",
   "metadata": {},
   "outputs": [],
   "source": []
  },
  {
   "cell_type": "code",
   "execution_count": null,
   "id": "661a311f-f07e-456e-bdf6-3e333dc5f196",
   "metadata": {},
   "outputs": [],
   "source": [
    "#PASS"
   ]
  },
  {
   "cell_type": "code",
   "execution_count": 25,
   "id": "a94d556d-52a9-4d96-8b3d-3e7b84b6bdab",
   "metadata": {},
   "outputs": [
    {
     "name": "stdin",
     "output_type": "stream",
     "text": [
      "ENter the value: 4\n"
     ]
    },
    {
     "name": "stdout",
     "output_type": "stream",
     "text": [
      "DONE\n"
     ]
    }
   ],
   "source": [
    "n=int(input(\"ENter the value:\"))\n",
    "i=1\n",
    "if(i<n):\n",
    "    if(i%2==0):\n",
    "        print(i)\n",
    "    else:\n",
    "        pass\n",
    "    i+=1\n",
    "print(\"DONE\")"
   ]
  },
  {
   "cell_type": "code",
   "execution_count": null,
   "id": "030d7337-2a85-4227-bab4-2ca04593cf11",
   "metadata": {},
   "outputs": [],
   "source": []
  },
  {
   "cell_type": "code",
   "execution_count": null,
   "id": "f636710f-7e16-4b08-a737-997531c04d29",
   "metadata": {},
   "outputs": [],
   "source": [
    "#break"
   ]
  },
  {
   "cell_type": "code",
   "execution_count": null,
   "id": "e49e5aba-66ae-4909-8bc5-598525eb31a4",
   "metadata": {},
   "outputs": [],
   "source": [
    "i=1\n",
    "while True:\n",
    "    if i%9==0:\n",
    "        print(\"Inside if\")\n",
    "        break\n",
    "    else:\n",
    "        print(\"Inside else\")\n",
    "        i+=1\n",
    "print(\"done\")"
   ]
  },
  {
   "cell_type": "code",
   "execution_count": null,
   "id": "48e846f5-986a-436c-ab59-ee457d242b7e",
   "metadata": {},
   "outputs": [],
   "source": [
    "#continue"
   ]
  },
  {
   "cell_type": "code",
   "execution_count": null,
   "id": "0ce3c2fc-8f07-4e6a-b8f5-0b35d52f8e56",
   "metadata": {},
   "outputs": [],
   "source": [
    "i=1\n",
    "while True:\n",
    "    if i%9==0:\n",
    "        print(\"Inside if\")\n",
    "        i+=1\n",
    "        continue\n",
    "        print(\"Something's\")\n",
    "        print(\"Cooking\")\n",
    "        \n",
    "print(\"done\")\n",
    "    \n",
    "    "
   ]
  },
  {
   "cell_type": "code",
   "execution_count": null,
   "id": "8dec4782-aa14-4cc0-b65e-81cdd8b2df85",
   "metadata": {},
   "outputs": [],
   "source": []
  }
 ],
 "metadata": {
  "kernelspec": {
   "display_name": "Python [conda env:base] *",
   "language": "python",
   "name": "conda-base-py"
  },
  "language_info": {
   "codemirror_mode": {
    "name": "ipython",
    "version": 3
   },
   "file_extension": ".py",
   "mimetype": "text/x-python",
   "name": "python",
   "nbconvert_exporter": "python",
   "pygments_lexer": "ipython3",
   "version": "3.12.7"
  }
 },
 "nbformat": 4,
 "nbformat_minor": 5
}

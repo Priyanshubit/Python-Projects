{
 "cells": [
  {
   "cell_type": "markdown",
   "id": "cc275177-0a66-437e-b2ad-fae2f4ce0729",
   "metadata": {},
   "source": [
    "# Automatic File Sorter in File Explorer"
   ]
  },
  {
   "cell_type": "code",
   "execution_count": 1,
   "id": "da9bfbdc-1093-4c55-a591-5309b906f8ba",
   "metadata": {},
   "outputs": [],
   "source": [
    "import os, shutil        #"
   ]
  },
  {
   "cell_type": "code",
   "execution_count": 8,
   "id": "f4bdbff8-a915-48f9-b569-cfdff5a6a8d7",
   "metadata": {},
   "outputs": [],
   "source": [
    "path= r\"C:\\Users\\acer\\Downloads\\Python/\"     # Assigning the path name to variable"
   ]
  },
  {
   "cell_type": "code",
   "execution_count": 10,
   "id": "d37f56fa-51db-4a67-b746-f32740f72b15",
   "metadata": {},
   "outputs": [],
   "source": [
    "file_name=os.listdir(path)        #"
   ]
  },
  {
   "cell_type": "code",
   "execution_count": 20,
   "id": "95d6e65a-f784-4399-a17b-d001c7e7e8e0",
   "metadata": {},
   "outputs": [
    {
     "name": "stdout",
     "output_type": "stream",
     "text": [
      "C:\\Users\\acer\\Downloads\\Python/Image files\n",
      "C:\\Users\\acer\\Downloads\\Python/Pdf files\n",
      "No files left to move\n"
     ]
    }
   ],
   "source": [
    "folder_names=['Image files','Csv files','Tableau files','Pdf files']  #Folder creation\n",
    "for loop in range(0,4):\n",
    "    if not os.path.exists(path+folder_names[loop]):\n",
    "        print(path+folder_names[loop])\n",
    "        os.makedirs(path+folder_names[loop])\n",
    "\n",
    "for file in file_name:\n",
    "    if '.JPG' in file and not os.path.exists(path + 'Image files/'+ file):\n",
    "        shutil.move(path +file, path+ 'Image files/' + file)\n",
    "    elif '.pdf' in file and not os.path.exists(path +'Pdf files/' + file):\n",
    "        shutil.move(path + file, path + 'Pdf files/' +file)\n",
    "    elif '.twbx' in file and not os.path.exists(path+ 'Tableau files/' +file):\n",
    "        shutil.move(path +file,path+'Tableau files/'+file)\n",
    "    elif '.xlsx' in file and not  os.path.exists(path +'Csv files/' + file):\n",
    "        shutil.move(path +file, path +'Csv files/'+file)\n",
    "    else: print\n",
    "\n",
    "else: print('No files left to move')"
   ]
  },
  {
   "cell_type": "code",
   "execution_count": 19,
   "id": "3ac23c83-4815-44ea-8399-06bc1ce35a18",
   "metadata": {},
   "outputs": [
    {
     "name": "stdout",
     "output_type": "stream",
     "text": [
      "No files left to move\n"
     ]
    }
   ],
   "source": []
  },
  {
   "cell_type": "code",
   "execution_count": null,
   "id": "75e5954e-6a82-4f90-93ca-3ba891bc50b9",
   "metadata": {},
   "outputs": [],
   "source": []
  },
  {
   "cell_type": "code",
   "execution_count": null,
   "id": "63e93e96-25e9-4779-b1eb-39cb108c3d55",
   "metadata": {},
   "outputs": [],
   "source": []
  },
  {
   "cell_type": "code",
   "execution_count": null,
   "id": "3428c30a-3062-4f17-b618-217a343931ba",
   "metadata": {},
   "outputs": [],
   "source": []
  }
 ],
 "metadata": {
  "kernelspec": {
   "display_name": "Python [conda env:base] *",
   "language": "python",
   "name": "conda-base-py"
  },
  "language_info": {
   "codemirror_mode": {
    "name": "ipython",
    "version": 3
   },
   "file_extension": ".py",
   "mimetype": "text/x-python",
   "name": "python",
   "nbconvert_exporter": "python",
   "pygments_lexer": "ipython3",
   "version": "3.12.7"
  }
 },
 "nbformat": 4,
 "nbformat_minor": 5
}

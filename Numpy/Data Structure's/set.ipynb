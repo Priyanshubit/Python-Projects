{
 "cells": [
  {
   "cell_type": "markdown",
   "id": "c4a5e042-a335-4811-a1db-7d79b9539c3f",
   "metadata": {},
   "source": [
    "# Set"
   ]
  },
  {
   "cell_type": "code",
   "execution_count": null,
   "id": "8f28bb67-8e05-40c9-9bc6-c86f371597b0",
   "metadata": {},
   "outputs": [],
   "source": [
    "# Set is used to store multiple items in a single variable \n",
    "# Structure: Unordered, mutable collection of unique elements.\n",
    "# Implementation: Hash table (like mathematical set).\n",
    "# Functionality: No duplicates, fast membership testing, union, intersection, difference."
   ]
  },
  {
   "cell_type": "code",
   "execution_count": 12,
   "id": "fba41369-c493-4eaf-95e2-80c43bbc466b",
   "metadata": {},
   "outputs": [],
   "source": [
    "a={34,86,\"pls\",\"help\",\"back\",'a'}"
   ]
  },
  {
   "cell_type": "code",
   "execution_count": 20,
   "id": "8bff45e2-a3de-44ff-8891-cdb70e458642",
   "metadata": {},
   "outputs": [
    {
     "name": "stdout",
     "output_type": "stream",
     "text": [
      "{'help', 34, 86, 'pls', 'a', 'back'}\n"
     ]
    }
   ],
   "source": [
    "print(a)"
   ]
  },
  {
   "cell_type": "code",
   "execution_count": 13,
   "id": "30560921-c784-4862-8a90-43889e8f9a20",
   "metadata": {},
   "outputs": [
    {
     "data": {
      "text/plain": [
       "set"
      ]
     },
     "execution_count": 13,
     "metadata": {},
     "output_type": "execute_result"
    }
   ],
   "source": [
    "type(a)"
   ]
  },
  {
   "cell_type": "code",
   "execution_count": null,
   "id": "c05fff0a-492f-4928-8410-deccce341649",
   "metadata": {},
   "outputs": [],
   "source": [
    "type(a(4))          # 'set' object is not callable"
   ]
  },
  {
   "cell_type": "code",
   "execution_count": 16,
   "id": "0a3d6e46-b492-4293-8560-e879480daa57",
   "metadata": {},
   "outputs": [
    {
     "name": "stdout",
     "output_type": "stream",
     "text": [
      "6\n"
     ]
    }
   ],
   "source": [
    "print(len(a))          #Length of the set"
   ]
  },
  {
   "cell_type": "code",
   "execution_count": null,
   "id": "01496438-6dc7-4ab9-9c18-5436f6cceed5",
   "metadata": {},
   "outputs": [],
   "source": []
  },
  {
   "cell_type": "code",
   "execution_count": 25,
   "id": "e3d5304e-f283-4adb-9926-6c080da1ba18",
   "metadata": {},
   "outputs": [],
   "source": [
    "seta=set((\"Hi\",\"Myself\",\"Parminder\",56,49))            #Set implementation using constructor"
   ]
  },
  {
   "cell_type": "code",
   "execution_count": 26,
   "id": "7a1f7c2c-1875-4617-97e6-18a4ae8fc5b0",
   "metadata": {},
   "outputs": [
    {
     "data": {
      "text/plain": [
       "set"
      ]
     },
     "execution_count": 26,
     "metadata": {},
     "output_type": "execute_result"
    }
   ],
   "source": [
    "type(seta)"
   ]
  },
  {
   "cell_type": "code",
   "execution_count": 27,
   "id": "5e00092f-1f0a-45eb-b2ce-82a183d80f32",
   "metadata": {},
   "outputs": [
    {
     "name": "stdout",
     "output_type": "stream",
     "text": [
      "{'Myself', 49, 'Parminder', 'Hi', 56}\n"
     ]
    }
   ],
   "source": [
    "print(seta)"
   ]
  },
  {
   "cell_type": "markdown",
   "id": "51f0dcfc-c895-4d31-bc7f-42b8b302ef75",
   "metadata": {},
   "source": [
    "# Insertion in set"
   ]
  },
  {
   "cell_type": "code",
   "execution_count": 28,
   "id": "26646fb3-2a99-4f2f-9de4-29e6ab5e046a",
   "metadata": {},
   "outputs": [],
   "source": [
    "seta.add(\"Hi\")     # Duplicates are not allowed"
   ]
  },
  {
   "cell_type": "code",
   "execution_count": 29,
   "id": "3549c582-8ecb-411d-b11a-90dfd3c3d918",
   "metadata": {},
   "outputs": [
    {
     "data": {
      "text/plain": [
       "{49, 56, 'Hi', 'Myself', 'Parminder'}"
      ]
     },
     "execution_count": 29,
     "metadata": {},
     "output_type": "execute_result"
    }
   ],
   "source": [
    "seta"
   ]
  },
  {
   "cell_type": "code",
   "execution_count": 32,
   "id": "5ddd3aa6-ac25-482e-90d9-92960dab421f",
   "metadata": {},
   "outputs": [],
   "source": [
    "seta.add(\"Hiih\")      # .add only takes one arguments"
   ]
  },
  {
   "cell_type": "code",
   "execution_count": 33,
   "id": "29c11e91-3b14-4357-8636-57a6f6cbb342",
   "metadata": {},
   "outputs": [
    {
     "data": {
      "text/plain": [
       "{49, 56, 'Hi', 'Hiih', 'Myself', 'Parminder'}"
      ]
     },
     "execution_count": 33,
     "metadata": {},
     "output_type": "execute_result"
    }
   ],
   "source": [
    "seta"
   ]
  },
  {
   "cell_type": "code",
   "execution_count": 34,
   "id": "51de40cf-1df3-42d7-baa8-9dba5eee12bd",
   "metadata": {},
   "outputs": [],
   "source": [
    "people = {\"Jay\", \"Idrish\", \"Archi\"}"
   ]
  },
  {
   "cell_type": "code",
   "execution_count": 35,
   "id": "e3121413-e6e0-457c-ac27-04f5de5096ea",
   "metadata": {},
   "outputs": [],
   "source": [
    "for i in range(1, 6):         #Using loop for insertion\n",
    "    people.add(i)"
   ]
  },
  {
   "cell_type": "code",
   "execution_count": 36,
   "id": "38f8ed91-5482-40f0-ae77-03efadb99d54",
   "metadata": {},
   "outputs": [
    {
     "name": "stdout",
     "output_type": "stream",
     "text": [
      "{1, 2, 3, 4, 5, 'Archi', 'Idrish', 'Jay'}\n"
     ]
    }
   ],
   "source": [
    "print(people)"
   ]
  },
  {
   "cell_type": "code",
   "execution_count": 37,
   "id": "c6211d30-ed78-4d1b-96f1-2ad5ebe423e2",
   "metadata": {},
   "outputs": [
    {
     "name": "stdin",
     "output_type": "stream",
     "text": [
      " 32\n",
      " 45\n",
      " 67\n",
      " 22\n",
      " 45\n"
     ]
    }
   ],
   "source": [
    "for i in range(1, 6):\n",
    "    people.add(input())             #Using user input to insert elements"
   ]
  },
  {
   "cell_type": "code",
   "execution_count": 38,
   "id": "476ee890-3878-4eb3-b173-78dfc4f39eb1",
   "metadata": {},
   "outputs": [
    {
     "name": "stdout",
     "output_type": "stream",
     "text": [
      "{1, 2, 3, 4, 5, 'Archi', 'Idrish', '67', '45', 'Jay', '22', '32'}\n"
     ]
    }
   ],
   "source": [
    "print(people)"
   ]
  },
  {
   "cell_type": "code",
   "execution_count": null,
   "id": "e4795e88-bc4e-4b59-8373-d35749723b40",
   "metadata": {},
   "outputs": [],
   "source": []
  },
  {
   "cell_type": "markdown",
   "id": "972f9e41-a6ae-4b26-a291-95fd1abe66d2",
   "metadata": {},
   "source": [
    "# Union operation on Python Sets\n",
    "Two sets can be merged using union() function or | operator."
   ]
  },
  {
   "cell_type": "code",
   "execution_count": 39,
   "id": "3b7e258d-fc52-46a2-b5ce-f29b7c78136b",
   "metadata": {},
   "outputs": [],
   "source": [
    "people = {\"Jay\", \"Idrish\", \"Archil\"}\n",
    "vampires = {\"Karan\", \"Arjun\"}\n",
    "dracula = {\"Deepanshu\", \"Raju\"}"
   ]
  },
  {
   "cell_type": "code",
   "execution_count": 40,
   "id": "f7d59225-b45a-4d03-ad83-99b6750500be",
   "metadata": {},
   "outputs": [],
   "source": [
    "notHumans=dracula.union(vampires)        #Using union to join two sets"
   ]
  },
  {
   "cell_type": "code",
   "execution_count": 41,
   "id": "9a9bd47d-2b9c-41e4-bec2-61b255e8d8fe",
   "metadata": {},
   "outputs": [
    {
     "name": "stdout",
     "output_type": "stream",
     "text": [
      "{'Arjun', 'Deepanshu', 'Raju', 'Karan'}\n"
     ]
    }
   ],
   "source": [
    "print(notHumans)"
   ]
  },
  {
   "cell_type": "code",
   "execution_count": 42,
   "id": "f6779acc-b3ec-4e6b-92df-f3ecfbb063aa",
   "metadata": {},
   "outputs": [],
   "source": [
    "Halfhumans=dracula|people         # Using | operator"
   ]
  },
  {
   "cell_type": "code",
   "execution_count": 43,
   "id": "532fe3b3-58c3-4987-ad05-8df3566644dd",
   "metadata": {},
   "outputs": [
    {
     "name": "stdout",
     "output_type": "stream",
     "text": [
      "{'Idrish', 'Deepanshu', 'Jay', 'Raju', 'Archil'}\n"
     ]
    }
   ],
   "source": [
    "print(Halfhumans)"
   ]
  },
  {
   "cell_type": "code",
   "execution_count": null,
   "id": "7da3cacc-883f-4e08-92a7-30f592f9803b",
   "metadata": {},
   "outputs": [],
   "source": []
  },
  {
   "cell_type": "markdown",
   "id": "95636251-675e-43df-ac96-af56f510ef8e",
   "metadata": {},
   "source": [
    "# Intersection operation on Python Sets\n",
    "This can be done through intersection() or & operator. Common Elements are selected. "
   ]
  },
  {
   "cell_type": "code",
   "execution_count": 45,
   "id": "aba69e90-b9be-4de3-9263-37635a9ec1a4",
   "metadata": {},
   "outputs": [],
   "source": [
    "Humans={'Idrish', 'Deepanshu', 'Jay', 'Raju', 'Archil'}\n",
    "animals={'Idrish', 'sakku', 'Jay', 'cena'}"
   ]
  },
  {
   "cell_type": "code",
   "execution_count": 46,
   "id": "1cff2d06-6f70-455e-9791-9f5886945ba5",
   "metadata": {},
   "outputs": [],
   "source": [
    "commonPredators=Humans.intersection(animals)     #Using intersection() to find common in two sets"
   ]
  },
  {
   "cell_type": "code",
   "execution_count": 47,
   "id": "cfc6931e-ddc3-4425-ac4e-074a05acca74",
   "metadata": {},
   "outputs": [
    {
     "name": "stdout",
     "output_type": "stream",
     "text": [
      "{'Idrish', 'Jay'}\n"
     ]
    }
   ],
   "source": [
    "print(commonPredators)"
   ]
  },
  {
   "cell_type": "code",
   "execution_count": 48,
   "id": "c515df56-fe29-4494-925b-045982d3a456",
   "metadata": {},
   "outputs": [],
   "source": [
    "commonPredators1=Humans & animals   "
   ]
  },
  {
   "cell_type": "code",
   "execution_count": 49,
   "id": "4b9df634-52cc-4af0-828b-041048f71dfb",
   "metadata": {},
   "outputs": [
    {
     "name": "stdout",
     "output_type": "stream",
     "text": [
      "{'Idrish', 'Jay'}\n"
     ]
    }
   ],
   "source": [
    "print(commonPredators1)              #Using & to find intersection of two sets"
   ]
  },
  {
   "cell_type": "markdown",
   "id": "381b474a-ccaf-48a4-b6e1-9e8e11074373",
   "metadata": {},
   "source": [
    "#  Differences of Sets\n",
    "To find differences between sets. Similar to finding differences in the linked list. "
   ]
  },
  {
   "cell_type": "code",
   "execution_count": 55,
   "id": "c6c2abe5-41b2-4af2-9205-24aff9c6ffec",
   "metadata": {},
   "outputs": [],
   "source": [
    "set1 = set()\n",
    "set2 = set()\n",
    "\n",
    "for i in range(5):\n",
    "    set1.add(i)\n",
    "\n",
    "for i in range(3,9):\n",
    "    set2.add(i)"
   ]
  },
  {
   "cell_type": "code",
   "execution_count": 56,
   "id": "65e953de-fbc1-4b6a-929d-48c9652b7dd2",
   "metadata": {},
   "outputs": [
    {
     "name": "stdout",
     "output_type": "stream",
     "text": [
      "{0, 1, 2, 3, 4} {3, 4, 5, 6, 7, 8}\n"
     ]
    }
   ],
   "source": [
    "print(set1,set2)"
   ]
  },
  {
   "cell_type": "code",
   "execution_count": 57,
   "id": "c2417588-1424-4ae1-81a5-a02c0fb889b5",
   "metadata": {},
   "outputs": [],
   "source": [
    "set3 = set1.difference(set2)                #Unique elements of set1"
   ]
  },
  {
   "cell_type": "code",
   "execution_count": 58,
   "id": "dc0e9189-7a8b-4564-8314-eba7073d507e",
   "metadata": {},
   "outputs": [
    {
     "data": {
      "text/plain": [
       "{0, 1, 2}"
      ]
     },
     "execution_count": 58,
     "metadata": {},
     "output_type": "execute_result"
    }
   ],
   "source": [
    "set3"
   ]
  },
  {
   "cell_type": "code",
   "execution_count": 59,
   "id": "0977250b-e560-4753-b0a7-9900db0cf5ab",
   "metadata": {},
   "outputs": [],
   "source": [
    "set4 = set2.difference(set1)                #Unique elements of set2"
   ]
  },
  {
   "cell_type": "code",
   "execution_count": 60,
   "id": "6d2e88b6-c350-4698-9a82-6df246444d61",
   "metadata": {},
   "outputs": [
    {
     "data": {
      "text/plain": [
       "{5, 6, 7, 8}"
      ]
     },
     "execution_count": 60,
     "metadata": {},
     "output_type": "execute_result"
    }
   ],
   "source": [
    "set4"
   ]
  },
  {
   "cell_type": "markdown",
   "id": "1a032af8-e473-48be-91ab-cd10c5520955",
   "metadata": {},
   "source": [
    "# Deletion in set"
   ]
  },
  {
   "cell_type": "code",
   "execution_count": 50,
   "id": "10f3e346-67ef-4985-9599-e16a50073c7f",
   "metadata": {},
   "outputs": [],
   "source": [
    "Alphas={'Idrish', 'sakku', 'Jay', 'cena'}"
   ]
  },
  {
   "cell_type": "code",
   "execution_count": 52,
   "id": "d4eef286-1251-47cd-98f9-4b0b34d44af6",
   "metadata": {},
   "outputs": [
    {
     "data": {
      "text/plain": [
       "{'Idrish', 'Jay', 'cena', 'sakku'}"
      ]
     },
     "execution_count": 52,
     "metadata": {},
     "output_type": "execute_result"
    }
   ],
   "source": [
    "Alphas"
   ]
  },
  {
   "cell_type": "code",
   "execution_count": 53,
   "id": "f9029663-cc14-40f6-95e5-e4e05e17e7aa",
   "metadata": {},
   "outputs": [],
   "source": [
    "Alphas.clear()         # Deleting whole set"
   ]
  },
  {
   "cell_type": "code",
   "execution_count": 54,
   "id": "12c0661c-6f62-4d4c-b0d2-1c4a3b8ead7d",
   "metadata": {},
   "outputs": [
    {
     "data": {
      "text/plain": [
       "set()"
      ]
     },
     "execution_count": 54,
     "metadata": {},
     "output_type": "execute_result"
    }
   ],
   "source": [
    "Alphas"
   ]
  }
 ],
 "metadata": {
  "kernelspec": {
   "display_name": "Python [conda env:base] *",
   "language": "python",
   "name": "conda-base-py"
  },
  "language_info": {
   "codemirror_mode": {
    "name": "ipython",
    "version": 3
   },
   "file_extension": ".py",
   "mimetype": "text/x-python",
   "name": "python",
   "nbconvert_exporter": "python",
   "pygments_lexer": "ipython3",
   "version": "3.12.7"
  }
 },
 "nbformat": 4,
 "nbformat_minor": 5
}

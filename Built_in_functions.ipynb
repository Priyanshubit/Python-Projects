{
 "cells": [
  {
   "cell_type": "markdown",
   "id": "8e1e4b55-a500-443f-9318-276009e3f8d6",
   "metadata": {},
   "source": [
    "# Important Functions in Python"
   ]
  },
  {
   "cell_type": "markdown",
   "id": "98cf7d93-5f99-42de-a7a4-4890802ccdd3",
   "metadata": {},
   "source": [
    "# 1.Round"
   ]
  },
  {
   "cell_type": "code",
   "execution_count": 3,
   "id": "efd356ce-0c70-4bba-b584-80da6088e2a4",
   "metadata": {},
   "outputs": [],
   "source": [
    "x=round(345.543,2)"
   ]
  },
  {
   "cell_type": "code",
   "execution_count": 4,
   "id": "477bf4fc-7344-4f43-ba3b-1ccdcd7222a7",
   "metadata": {},
   "outputs": [
    {
     "data": {
      "text/plain": [
       "345.54"
      ]
     },
     "execution_count": 4,
     "metadata": {},
     "output_type": "execute_result"
    }
   ],
   "source": [
    "x"
   ]
  },
  {
   "cell_type": "code",
   "execution_count": 6,
   "id": "8e1513b7-54cf-4a35-85d8-188249f3855d",
   "metadata": {},
   "outputs": [],
   "source": [
    "y=round(345.546,2)"
   ]
  },
  {
   "cell_type": "code",
   "execution_count": 7,
   "id": "13c278c0-338c-428a-94bc-862e5760ea66",
   "metadata": {},
   "outputs": [
    {
     "data": {
      "text/plain": [
       "345.55"
      ]
     },
     "execution_count": 7,
     "metadata": {},
     "output_type": "execute_result"
    }
   ],
   "source": [
    "y"
   ]
  },
  {
   "cell_type": "code",
   "execution_count": 13,
   "id": "a45e8b6b-8595-48ef-b138-5c11431929aa",
   "metadata": {},
   "outputs": [],
   "source": [
    "z=round(234.6)"
   ]
  },
  {
   "cell_type": "code",
   "execution_count": 14,
   "id": "4d05ae5b-166f-4c75-99fb-065ce0bf5418",
   "metadata": {},
   "outputs": [
    {
     "data": {
      "text/plain": [
       "235"
      ]
     },
     "execution_count": 14,
     "metadata": {},
     "output_type": "execute_result"
    }
   ],
   "source": [
    "z"
   ]
  },
  {
   "cell_type": "code",
   "execution_count": 15,
   "id": "0f52e196-915f-472c-b843-5b4a57bf7481",
   "metadata": {},
   "outputs": [],
   "source": [
    "f=round(234.4)"
   ]
  },
  {
   "cell_type": "code",
   "execution_count": 16,
   "id": "c07dff54-db1d-4ab2-b066-51c8535cd4d5",
   "metadata": {},
   "outputs": [
    {
     "data": {
      "text/plain": [
       "234"
      ]
     },
     "execution_count": 16,
     "metadata": {},
     "output_type": "execute_result"
    }
   ],
   "source": [
    "f"
   ]
  },
  {
   "cell_type": "markdown",
   "id": "95722d1b-8d57-442d-b11c-2e328839c57e",
   "metadata": {},
   "source": [
    "# 2. Divmod"
   ]
  },
  {
   "cell_type": "code",
   "execution_count": 22,
   "id": "ae640d26-09a0-4685-a023-0c199fa5ad36",
   "metadata": {},
   "outputs": [],
   "source": [
    "# Gives a tuple as output that represent the quotient and remainder of the value "
   ]
  },
  {
   "cell_type": "code",
   "execution_count": 17,
   "id": "d79915ed-a4a1-410d-86ca-10192c501359",
   "metadata": {},
   "outputs": [
    {
     "data": {
      "text/plain": [
       "(2, 2)"
      ]
     },
     "execution_count": 17,
     "metadata": {},
     "output_type": "execute_result"
    }
   ],
   "source": [
    "divmod(22,10)"
   ]
  },
  {
   "cell_type": "code",
   "execution_count": 18,
   "id": "14e38fac-1f15-428e-b60f-84eb3e239378",
   "metadata": {},
   "outputs": [
    {
     "data": {
      "text/plain": [
       "(3, 0)"
      ]
     },
     "execution_count": 18,
     "metadata": {},
     "output_type": "execute_result"
    }
   ],
   "source": [
    "divmod(9,3)"
   ]
  },
  {
   "cell_type": "code",
   "execution_count": 19,
   "id": "60c7f0a0-c839-4f18-b784-d72768513fff",
   "metadata": {},
   "outputs": [],
   "source": [
    "m=divmod(9,9)"
   ]
  },
  {
   "cell_type": "code",
   "execution_count": 20,
   "id": "0a0419b1-d592-48c6-9153-cb4ab267f7b9",
   "metadata": {},
   "outputs": [
    {
     "data": {
      "text/plain": [
       "(1, 0)"
      ]
     },
     "execution_count": 20,
     "metadata": {},
     "output_type": "execute_result"
    }
   ],
   "source": [
    "m"
   ]
  },
  {
   "cell_type": "code",
   "execution_count": 21,
   "id": "65f6206a-7916-4003-af71-b84d8f8dcc6e",
   "metadata": {},
   "outputs": [
    {
     "data": {
      "text/plain": [
       "tuple"
      ]
     },
     "execution_count": 21,
     "metadata": {},
     "output_type": "execute_result"
    }
   ],
   "source": [
    "type(m)"
   ]
  },
  {
   "cell_type": "markdown",
   "id": "65919c75-f814-473a-9772-4b2d7f63dc12",
   "metadata": {},
   "source": [
    "# 3. isinstance"
   ]
  },
  {
   "cell_type": "code",
   "execution_count": 23,
   "id": "edb202a8-a563-44c8-9377-134698b4966f",
   "metadata": {},
   "outputs": [],
   "source": [
    "# Return true if the value passed related to given instance of the class"
   ]
  },
  {
   "cell_type": "code",
   "execution_count": 24,
   "id": "79092f95-81e1-4e06-9a55-1a43398f054e",
   "metadata": {},
   "outputs": [
    {
     "data": {
      "text/plain": [
       "True"
      ]
     },
     "execution_count": 24,
     "metadata": {},
     "output_type": "execute_result"
    }
   ],
   "source": [
    "isinstance(22,int)"
   ]
  },
  {
   "cell_type": "code",
   "execution_count": 27,
   "id": "fee0fb36-535b-4565-b7df-82bf3278a4a2",
   "metadata": {},
   "outputs": [],
   "source": [
    "o=isinstance(22,str)"
   ]
  },
  {
   "cell_type": "code",
   "execution_count": 28,
   "id": "ba1a81d7-1132-4f88-8ff0-a3e12fa2cd2e",
   "metadata": {},
   "outputs": [
    {
     "data": {
      "text/plain": [
       "False"
      ]
     },
     "execution_count": 28,
     "metadata": {},
     "output_type": "execute_result"
    }
   ],
   "source": [
    "o"
   ]
  },
  {
   "cell_type": "code",
   "execution_count": 29,
   "id": "b611de79-be87-44c6-ad9b-d288a938714f",
   "metadata": {},
   "outputs": [
    {
     "data": {
      "text/plain": [
       "bool"
      ]
     },
     "execution_count": 29,
     "metadata": {},
     "output_type": "execute_result"
    }
   ],
   "source": [
    "type(o)"
   ]
  },
  {
   "cell_type": "code",
   "execution_count": 31,
   "id": "d4b2901c-d8e4-49a6-bf4c-585622201ad6",
   "metadata": {},
   "outputs": [
    {
     "data": {
      "text/plain": [
       "True"
      ]
     },
     "execution_count": 31,
     "metadata": {},
     "output_type": "execute_result"
    }
   ],
   "source": [
    "isinstance(34.6,(float,int,str))"
   ]
  },
  {
   "cell_type": "code",
   "execution_count": 32,
   "id": "19b0dba6-9cad-4b87-a9f3-8f088dbf0084",
   "metadata": {},
   "outputs": [
    {
     "data": {
      "text/plain": [
       "True"
      ]
     },
     "execution_count": 32,
     "metadata": {},
     "output_type": "execute_result"
    }
   ],
   "source": [
    "isinstance(2-3J,(complex,int,float))"
   ]
  },
  {
   "cell_type": "markdown",
   "id": "0426460c-c942-41ea-be75-217e22c76db9",
   "metadata": {},
   "source": [
    "# 4.Pow"
   ]
  },
  {
   "cell_type": "code",
   "execution_count": 33,
   "id": "b5d9d46e-462d-4a93-834f-06a5d2bc1407",
   "metadata": {},
   "outputs": [
    {
     "data": {
      "text/plain": [
       "8"
      ]
     },
     "execution_count": 33,
     "metadata": {},
     "output_type": "execute_result"
    }
   ],
   "source": [
    "pow(2,3)  # 2*2*2"
   ]
  },
  {
   "cell_type": "code",
   "execution_count": 35,
   "id": "2680007c-24e5-4f88-b17b-c8b05150a396",
   "metadata": {},
   "outputs": [
    {
     "data": {
      "text/plain": [
       "3"
      ]
     },
     "execution_count": 35,
     "metadata": {},
     "output_type": "execute_result"
    }
   ],
   "source": [
    "pow(2,3,5) #2*2*2/5= remainder"
   ]
  },
  {
   "cell_type": "code",
   "execution_count": 36,
   "id": "7d6acd40-e24c-4b06-afc9-04c85793843e",
   "metadata": {},
   "outputs": [],
   "source": [
    "a=pow(8,2,64)  #8*8/64=0"
   ]
  },
  {
   "cell_type": "code",
   "execution_count": 37,
   "id": "54657299-37c5-497c-8fc7-363e5b923188",
   "metadata": {},
   "outputs": [
    {
     "data": {
      "text/plain": [
       "0"
      ]
     },
     "execution_count": 37,
     "metadata": {},
     "output_type": "execute_result"
    }
   ],
   "source": [
    "a"
   ]
  },
  {
   "cell_type": "markdown",
   "id": "c7ea96fe-c25d-46bf-bb21-8376f9b5cae0",
   "metadata": {},
   "source": [
    "# 5. Input"
   ]
  },
  {
   "cell_type": "code",
   "execution_count": 41,
   "id": "d57aa867-65bc-48b4-9265-2151ae68fe17",
   "metadata": {},
   "outputs": [
    {
     "name": "stdout",
     "output_type": "stream",
     "text": [
      "Enter your name:\n"
     ]
    },
    {
     "name": "stdin",
     "output_type": "stream",
     "text": [
      " Priyanshu\n"
     ]
    },
    {
     "name": "stdout",
     "output_type": "stream",
     "text": [
      "Hello Priyanshu\n"
     ]
    }
   ],
   "source": [
    "print(\"Enter your name:\")\n",
    "x=input()\n",
    "print( \"Hello\",x)"
   ]
  },
  {
   "cell_type": "code",
   "execution_count": 42,
   "id": "bb17349a-9ba7-4e19-a2f5-e9825bb23ab4",
   "metadata": {},
   "outputs": [
    {
     "name": "stdin",
     "output_type": "stream",
     "text": [
      "Enter your name: harpreet\n"
     ]
    },
    {
     "name": "stdout",
     "output_type": "stream",
     "text": [
      "Hello, harpreet\n"
     ]
    }
   ],
   "source": [
    "y = input('Enter your name:')\n",
    "print('Hello, ' + y)"
   ]
  },
  {
   "cell_type": "code",
   "execution_count": 43,
   "id": "c0b81238-7b6f-4fca-980e-1bc4325788c8",
   "metadata": {},
   "outputs": [
    {
     "data": {
      "text/plain": [
       "str"
      ]
     },
     "execution_count": 43,
     "metadata": {},
     "output_type": "execute_result"
    }
   ],
   "source": [
    "type(y)"
   ]
  },
  {
   "cell_type": "code",
   "execution_count": 44,
   "id": "f403c0cd-9fbd-49b8-a8a9-d95ad2323266",
   "metadata": {},
   "outputs": [
    {
     "name": "stdin",
     "output_type": "stream",
     "text": [
      " 56\n"
     ]
    }
   ],
   "source": [
    "y=input()"
   ]
  },
  {
   "cell_type": "code",
   "execution_count": 45,
   "id": "78a859af-db2a-42c7-9f49-fb44c34d372a",
   "metadata": {},
   "outputs": [
    {
     "data": {
      "text/plain": [
       "str"
      ]
     },
     "execution_count": 45,
     "metadata": {},
     "output_type": "execute_result"
    }
   ],
   "source": [
    "type(y)"
   ]
  },
  {
   "cell_type": "code",
   "execution_count": 52,
   "id": "8bb4fc18-22b4-4a12-b034-c306b3e8b127",
   "metadata": {},
   "outputs": [
    {
     "name": "stdin",
     "output_type": "stream",
     "text": [
      "Enter the number: 566.5\n"
     ]
    },
    {
     "data": {
      "text/plain": [
       "566.5"
      ]
     },
     "execution_count": 52,
     "metadata": {},
     "output_type": "execute_result"
    }
   ],
   "source": [
    "T=float(input(\"Enter the number:\"))\n",
    "T"
   ]
  },
  {
   "cell_type": "code",
   "execution_count": 53,
   "id": "c703db41-dff4-40fe-937e-1a2be021e9ce",
   "metadata": {},
   "outputs": [
    {
     "ename": "TypeError",
     "evalue": "can only concatenate str (not \"float\") to str",
     "output_type": "error",
     "traceback": [
      "\u001b[1;31m---------------------------------------------------------------------------\u001b[0m",
      "\u001b[1;31mTypeError\u001b[0m                                 Traceback (most recent call last)",
      "Cell \u001b[1;32mIn[53], line 1\u001b[0m\n\u001b[1;32m----> 1\u001b[0m \u001b[38;5;28mprint\u001b[39m(\u001b[38;5;124m\"\u001b[39m\u001b[38;5;124mThe number is :\u001b[39m\u001b[38;5;124m\"\u001b[39m\u001b[38;5;241m+\u001b[39mT)\n",
      "\u001b[1;31mTypeError\u001b[0m: can only concatenate str (not \"float\") to str"
     ]
    }
   ],
   "source": [
    "print(\"The number is :\"+T)"
   ]
  },
  {
   "cell_type": "code",
   "execution_count": null,
   "id": "62a50a6f-52ec-436f-a8f4-8eb46c1cba5c",
   "metadata": {},
   "outputs": [],
   "source": []
  }
 ],
 "metadata": {
  "kernelspec": {
   "display_name": "Python [conda env:base] *",
   "language": "python",
   "name": "conda-base-py"
  },
  "language_info": {
   "codemirror_mode": {
    "name": "ipython",
    "version": 3
   },
   "file_extension": ".py",
   "mimetype": "text/x-python",
   "name": "python",
   "nbconvert_exporter": "python",
   "pygments_lexer": "ipython3",
   "version": "3.12.7"
  }
 },
 "nbformat": 4,
 "nbformat_minor": 5
}

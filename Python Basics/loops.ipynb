{
 "cells": [
  {
   "cell_type": "markdown",
   "id": "a32d2b86-8c20-4baa-80ca-0608856393b5",
   "metadata": {},
   "source": [
    "# For loop"
   ]
  },
  {
   "cell_type": "code",
   "execution_count": 2,
   "id": "be641b42-a66f-4f46-b081-027067c9bf6c",
   "metadata": {},
   "outputs": [
    {
     "name": "stdout",
     "output_type": "stream",
     "text": [
      "0\n",
      "1\n",
      "2\n",
      "3\n",
      "4\n",
      "5\n",
      "6\n",
      "7\n",
      "8\n",
      "9\n",
      "[0, 1, 4, 9, 16, 25, 36, 49, 64, 81]\n"
     ]
    }
   ],
   "source": [
    "l=[]\n",
    "for i in range (10):\n",
    "    print(i)\n",
    "    l.append(i**2)\n",
    "print(l)"
   ]
  },
  {
   "cell_type": "code",
   "execution_count": 3,
   "id": "8df13159-4958-40c7-818a-25286f15e629",
   "metadata": {},
   "outputs": [
    {
     "name": "stdout",
     "output_type": "stream",
     "text": [
      "0\n",
      "2\n",
      "4\n",
      "6\n",
      "8\n",
      "[0, 4, 16, 36, 64]\n"
     ]
    }
   ],
   "source": [
    "m=[]\n",
    "for i in range (0,10,2):\n",
    "    print(i)\n",
    "    m.append(i**2)\n",
    "print(m)"
   ]
  },
  {
   "cell_type": "code",
   "execution_count": null,
   "id": "e4b6a990-8695-4d34-85d3-ecc198c21ba2",
   "metadata": {},
   "outputs": [],
   "source": []
  },
  {
   "cell_type": "code",
   "execution_count": 5,
   "id": "9080b3d2-3a4e-4452-b84b-85e4bbf0cc71",
   "metadata": {},
   "outputs": [
    {
     "name": "stdout",
     "output_type": "stream",
     "text": [
      "apple\n",
      "cherry\n",
      "anar\n",
      "6.3\n",
      "78\n",
      "Iteartion Done\n"
     ]
    }
   ],
   "source": [
    "s={\"apple\",\"anar\",78,\"cherry\",6.3}\n",
    "for x in s:\n",
    "    print(x)\n",
    "else:\n",
    "    print(\"Iteration Done\")"
   ]
  },
  {
   "cell_type": "code",
   "execution_count": null,
   "id": "20f16d20-e7ad-4eb2-89ec-6dbf4ce45062",
   "metadata": {},
   "outputs": [],
   "source": []
  },
  {
   "cell_type": "code",
   "execution_count": 30,
   "id": "041a62a2-bf1d-4694-83e1-5b66cc2c855e",
   "metadata": {},
   "outputs": [
    {
     "name": "stdout",
     "output_type": "stream",
     "text": [
      "orange\n",
      "avacado\n",
      "apple\n",
      "Outside\n"
     ]
    }
   ],
   "source": [
    "s={\"apple\",\"mango\",\"orange\",\"avacado\"}\n",
    "i=0\n",
    "for x in s:\n",
    "    print(x)\n",
    "    i+=1\n",
    "    if i==3:\n",
    "        break\n",
    "    else:\n",
    "        pass\n",
    "else:\n",
    "    print(\"Iteration done\")\n",
    "print(\"Outside\")"
   ]
  },
  {
   "cell_type": "code",
   "execution_count": null,
   "id": "7f0bdfaf-7c94-431f-8686-85edab233e2c",
   "metadata": {},
   "outputs": [],
   "source": []
  }
 ],
 "metadata": {
  "kernelspec": {
   "display_name": "Python [conda env:base] *",
   "language": "python",
   "name": "conda-base-py"
  },
  "language_info": {
   "codemirror_mode": {
    "name": "ipython",
    "version": 3
   },
   "file_extension": ".py",
   "mimetype": "text/x-python",
   "name": "python",
   "nbconvert_exporter": "python",
   "pygments_lexer": "ipython3",
   "version": "3.12.7"
  }
 },
 "nbformat": 4,
 "nbformat_minor": 5
}

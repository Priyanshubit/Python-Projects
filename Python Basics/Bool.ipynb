{
 "cells": [
  {
   "cell_type": "markdown",
   "id": "0147868c-14a6-4173-a2d5-0c6e4be1c5cb",
   "metadata": {},
   "source": [
    "# Bool"
   ]
  },
  {
   "cell_type": "code",
   "execution_count": 1,
   "id": "040dab26-6e6b-48c2-a141-e3ab8f880d44",
   "metadata": {},
   "outputs": [],
   "source": [
    "# Bool/ Boolean in python is defined as true and false not 0 and 1 it return value true (if present) and false (if not present)"
   ]
  },
  {
   "cell_type": "code",
   "execution_count": 8,
   "id": "2313adee-e903-48a0-a226-cc8cefd7b92a",
   "metadata": {},
   "outputs": [],
   "source": [
    "a,b=1,2"
   ]
  },
  {
   "cell_type": "code",
   "execution_count": 9,
   "id": "695566e6-618d-4460-98ce-3886a1ac43a4",
   "metadata": {},
   "outputs": [
    {
     "name": "stdout",
     "output_type": "stream",
     "text": [
      "True\n"
     ]
    }
   ],
   "source": [
    "print(a<b)"
   ]
  },
  {
   "cell_type": "code",
   "execution_count": 10,
   "id": "10b4edbf-af01-4039-a368-a40bd6ac18f6",
   "metadata": {},
   "outputs": [
    {
     "data": {
      "text/plain": [
       "True"
      ]
     },
     "execution_count": 10,
     "metadata": {},
     "output_type": "execute_result"
    }
   ],
   "source": [
    "a<b"
   ]
  },
  {
   "cell_type": "code",
   "execution_count": 11,
   "id": "f9c6f0b6-2fcb-48c4-b166-dd9735e53322",
   "metadata": {},
   "outputs": [
    {
     "name": "stdout",
     "output_type": "stream",
     "text": [
      "<class 'int'>\n"
     ]
    }
   ],
   "source": [
    "print(type(a))"
   ]
  },
  {
   "cell_type": "code",
   "execution_count": 27,
   "id": "a33b6af4-bcff-472e-92a8-35dac667c833",
   "metadata": {},
   "outputs": [
    {
     "data": {
      "text/plain": [
       "True"
      ]
     },
     "execution_count": 27,
     "metadata": {},
     "output_type": "execute_result"
    }
   ],
   "source": [
    "bool(1)"
   ]
  },
  {
   "cell_type": "code",
   "execution_count": 30,
   "id": "d2ae393b-7a71-4d31-b299-a55ffe56676c",
   "metadata": {},
   "outputs": [
    {
     "data": {
      "text/plain": [
       "False"
      ]
     },
     "execution_count": 30,
     "metadata": {},
     "output_type": "execute_result"
    }
   ],
   "source": [
    "bool(not(1))"
   ]
  },
  {
   "cell_type": "code",
   "execution_count": 36,
   "id": "be62cfd6-1cc0-459c-b1f9-867c9a7f545f",
   "metadata": {},
   "outputs": [
    {
     "data": {
      "text/plain": [
       "False"
      ]
     },
     "execution_count": 36,
     "metadata": {},
     "output_type": "execute_result"
    }
   ],
   "source": [
    "not(True)"
   ]
  },
  {
   "cell_type": "code",
   "execution_count": 37,
   "id": "9af5111b-ab85-42e4-98e7-a804cee1ca99",
   "metadata": {},
   "outputs": [
    {
     "data": {
      "text/plain": [
       "True"
      ]
     },
     "execution_count": 37,
     "metadata": {},
     "output_type": "execute_result"
    }
   ],
   "source": [
    "not(False)"
   ]
  },
  {
   "cell_type": "code",
   "execution_count": 12,
   "id": "946d960a-4a57-42cc-ad83-737cedab24c7",
   "metadata": {},
   "outputs": [],
   "source": [
    "c,d=3,3.0"
   ]
  },
  {
   "cell_type": "code",
   "execution_count": 25,
   "id": "5036be17-3d66-4cde-b5b3-161415b99c8b",
   "metadata": {},
   "outputs": [
    {
     "data": {
      "text/plain": [
       "True"
      ]
     },
     "execution_count": 25,
     "metadata": {},
     "output_type": "execute_result"
    }
   ],
   "source": [
    "bool(c and d)"
   ]
  },
  {
   "cell_type": "code",
   "execution_count": 20,
   "id": "844d7a95-ba56-4d47-96f0-ff71501f80ce",
   "metadata": {},
   "outputs": [
    {
     "name": "stdout",
     "output_type": "stream",
     "text": [
      "True\n"
     ]
    }
   ],
   "source": [
    "print(bool(\"Hello\"))"
   ]
  },
  {
   "cell_type": "code",
   "execution_count": 23,
   "id": "216ce060-2cd0-45f5-8493-268051d42f35",
   "metadata": {},
   "outputs": [
    {
     "name": "stdout",
     "output_type": "stream",
     "text": [
      "False\n"
     ]
    }
   ],
   "source": [
    "print(bool(0))"
   ]
  },
  {
   "cell_type": "code",
   "execution_count": null,
   "id": "618766fe-ce4b-4494-835d-1019fc892e5e",
   "metadata": {},
   "outputs": [],
   "source": []
  },
  {
   "cell_type": "code",
   "execution_count": 17,
   "id": "c702b5be-57ed-4fba-9ba4-d837915fe617",
   "metadata": {},
   "outputs": [],
   "source": [
    "x,y,z,t=4,9,8.3,-3"
   ]
  },
  {
   "cell_type": "code",
   "execution_count": 24,
   "id": "5117da00-0267-408f-920c-cab306467d60",
   "metadata": {},
   "outputs": [
    {
     "data": {
      "text/plain": [
       "True"
      ]
     },
     "execution_count": 24,
     "metadata": {},
     "output_type": "execute_result"
    }
   ],
   "source": [
    "bool((x<y) and (z,y) or (r==x))"
   ]
  },
  {
   "cell_type": "code",
   "execution_count": 32,
   "id": "4e00f587-508b-4f94-a53b-90396278d7f5",
   "metadata": {},
   "outputs": [
    {
     "data": {
      "text/plain": [
       "True"
      ]
     },
     "execution_count": 32,
     "metadata": {},
     "output_type": "execute_result"
    }
   ],
   "source": [
    "bool((x<y) and (t==x) or (z<y))"
   ]
  },
  {
   "cell_type": "code",
   "execution_count": 35,
   "id": "8a24ec18-d236-4cf6-8cb2-310592579d69",
   "metadata": {},
   "outputs": [
    {
     "name": "stdout",
     "output_type": "stream",
     "text": [
      "False\n"
     ]
    }
   ],
   "source": [
    "print((not(2!=3) and True) or (False and True))"
   ]
  }
 ],
 "metadata": {
  "kernelspec": {
   "display_name": "Python [conda env:base] *",
   "language": "python",
   "name": "conda-base-py"
  },
  "language_info": {
   "codemirror_mode": {
    "name": "ipython",
    "version": 3
   },
   "file_extension": ".py",
   "mimetype": "text/x-python",
   "name": "python",
   "nbconvert_exporter": "python",
   "pygments_lexer": "ipython3",
   "version": "3.12.7"
  }
 },
 "nbformat": 4,
 "nbformat_minor": 5
}

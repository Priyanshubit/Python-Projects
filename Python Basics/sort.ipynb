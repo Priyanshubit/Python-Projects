{
 "cells": [
  {
   "cell_type": "markdown",
   "id": "e409eaa7-850e-46d1-8151-2ae94775927f",
   "metadata": {},
   "source": [
    "# Given a list of number make another list that contains all the elements in sorted manner"
   ]
  },
  {
   "cell_type": "code",
   "execution_count": null,
   "id": "073cfa5f-560a-4d1a-9c05-ca4166a6f269",
   "metadata": {},
   "outputs": [],
   "source": [
    "#Selection sort"
   ]
  },
  {
   "cell_type": "code",
   "execution_count": 10,
   "id": "9a56d278-8faf-4e45-8226-fa51ddcc00aa",
   "metadata": {},
   "outputs": [
    {
     "name": "stdout",
     "output_type": "stream",
     "text": [
      "[-5, 1, 2, 2, 3, 4, 7, 9]\n"
     ]
    }
   ],
   "source": [
    "l = [1,2,4,-5,3,7,9,2]\n",
    "\n",
    "for x in range(len(l)):\n",
    "    m = l[x]      # assume current element is minimum\n",
    "    idx = x       # store index of min\n",
    "    for i in range(x, len(l)):\n",
    "        if l[i] < m:\n",
    "            m = l[i]\n",
    "            idx = i   # store index of actual minimum\n",
    "    \n",
    "    # swap outside inner loop\n",
    "    l[x], l[idx] = l[idx], l[x]\n",
    "\n",
    "print(l)  # [-5, 1, 2, 2, 3, 4, 7, 9]\n"
   ]
  }
 ],
 "metadata": {
  "kernelspec": {
   "display_name": "Python [conda env:base] *",
   "language": "python",
   "name": "conda-base-py"
  },
  "language_info": {
   "codemirror_mode": {
    "name": "ipython",
    "version": 3
   },
   "file_extension": ".py",
   "mimetype": "text/x-python",
   "name": "python",
   "nbconvert_exporter": "python",
   "pygments_lexer": "ipython3",
   "version": "3.12.7"
  }
 },
 "nbformat": 4,
 "nbformat_minor": 5
}

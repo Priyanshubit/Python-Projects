{
 "cells": [
  {
   "cell_type": "markdown",
   "id": "85884766-a69c-43b9-8cbe-f0202bfd4271",
   "metadata": {},
   "source": [
    "# Dictionary"
   ]
  },
  {
   "cell_type": "code",
   "execution_count": null,
   "id": "5cc4930a-41ce-4a2e-a8fb-a95589e09ab7",
   "metadata": {},
   "outputs": [],
   "source": [
    "# Dictionary is used to store multiple items in a single variable \n",
    "# Structure: Unordered, collection of key–value pairs.\n",
    "# Implementation: Hash map internally.\n",
    "# Functionality: Fast lookup by key, can add/update/remove keys, keys must be unique and immutable."
   ]
  },
  {
   "cell_type": "code",
   "execution_count": 2,
   "id": "c3fedf23-e966-47d7-946b-3b7d81111ee4",
   "metadata": {},
   "outputs": [],
   "source": [
    "d={\"brand\":\"b\",\"soap\":\"s\",\"water\":\"w\"}"
   ]
  },
  {
   "cell_type": "code",
   "execution_count": 3,
   "id": "3f18d728-0e09-4dfc-b11f-2a1864bc55ad",
   "metadata": {},
   "outputs": [
    {
     "data": {
      "text/plain": [
       "dict"
      ]
     },
     "execution_count": 3,
     "metadata": {},
     "output_type": "execute_result"
    }
   ],
   "source": [
    "type(d)               #type of object d"
   ]
  },
  {
   "cell_type": "code",
   "execution_count": 4,
   "id": "1f590fce-c574-43b7-bf0a-8c2031474aca",
   "metadata": {},
   "outputs": [
    {
     "name": "stdout",
     "output_type": "stream",
     "text": [
      "{'brand': 'b', 'soap': 's', 'water': 'w'}\n"
     ]
    }
   ],
   "source": [
    "print(d)"
   ]
  },
  {
   "cell_type": "code",
   "execution_count": 6,
   "id": "92290ac9-2595-4d65-aa33-a811fd7e7ad7",
   "metadata": {},
   "outputs": [
    {
     "data": {
      "text/plain": [
       "str"
      ]
     },
     "execution_count": 6,
     "metadata": {},
     "output_type": "execute_result"
    }
   ],
   "source": [
    "type(d[\"brand\"])           #type of element with index \"brand\""
   ]
  },
  {
   "cell_type": "code",
   "execution_count": 7,
   "id": "9da72856-c6f5-4323-b817-ce0df03453e0",
   "metadata": {},
   "outputs": [],
   "source": [
    "country_capitals = {\n",
    "  \"Germany\": \"Berlin\", \n",
    "  \"Canada\": \"Ottawa\", \n",
    "  \"England\": \"London\"\n",
    "}"
   ]
  },
  {
   "cell_type": "code",
   "execution_count": 8,
   "id": "00b97f96-2925-477e-a22d-b8a360c98474",
   "metadata": {},
   "outputs": [
    {
     "name": "stdout",
     "output_type": "stream",
     "text": [
      "Berlin\n"
     ]
    }
   ],
   "source": [
    "print(country_capitals[\"Germany\"])"
   ]
  },
  {
   "cell_type": "code",
   "execution_count": 10,
   "id": "ef02bd81-38ea-4c62-bdf4-1b648b399b6a",
   "metadata": {},
   "outputs": [
    {
     "data": {
      "text/plain": [
       "3"
      ]
     },
     "execution_count": 10,
     "metadata": {},
     "output_type": "execute_result"
    }
   ],
   "source": [
    "len(d)      #Length of the dictionary"
   ]
  },
  {
   "cell_type": "code",
   "execution_count": 11,
   "id": "8245bf43-366e-40c9-ac9e-06f4a2c72ed7",
   "metadata": {},
   "outputs": [
    {
     "name": "stdout",
     "output_type": "stream",
     "text": [
      "3\n"
     ]
    }
   ],
   "source": [
    "print(len(country_capitals))"
   ]
  },
  {
   "cell_type": "code",
   "execution_count": 18,
   "id": "525e400f-8de3-480f-b195-c61d40413d6c",
   "metadata": {},
   "outputs": [],
   "source": [
    "thisdic=dict(rajasthan=\"jaipur\",UttarPradesh=\"Lucknow\",Mumbai=\"Maharasthra\",Uttarakhand=\"Dehradun\")           #Using contructor"
   ]
  },
  {
   "cell_type": "code",
   "execution_count": 19,
   "id": "80cc39f1-b62d-4179-a185-98fae9925388",
   "metadata": {},
   "outputs": [
    {
     "name": "stdout",
     "output_type": "stream",
     "text": [
      "{'rajasthan': 'jaipur', 'UttarPradesh': 'Lucknow', 'Mumbai': 'Maharasthra', 'Uttarakhand': 'Dehradun'}\n"
     ]
    }
   ],
   "source": [
    "print(thisdic)"
   ]
  },
  {
   "cell_type": "code",
   "execution_count": null,
   "id": "59c0e09f-2d69-4b08-9e34-d563e5d98c94",
   "metadata": {},
   "outputs": [],
   "source": []
  },
  {
   "cell_type": "markdown",
   "id": "ade6b747-a9a9-4ec6-9588-f00da88f9cc0",
   "metadata": {},
   "source": [
    "# Insertion in Dict"
   ]
  },
  {
   "cell_type": "code",
   "execution_count": 20,
   "id": "7a83d366-e0fa-4654-9d91-7835b844bef3",
   "metadata": {},
   "outputs": [],
   "source": [
    "c_c = {\n",
    "  \"Germany\": \"Berlin\", \n",
    "  \"Canada\": \"Ottawa\", \n",
    "  \"India\": \"delhi\", \n",
    "  \"England\": \"london\", \n",
    "}\n"
   ]
  },
  {
   "cell_type": "code",
   "execution_count": 21,
   "id": "eb7b8fdb-53e9-44c1-8a95-b0086ee89ad2",
   "metadata": {},
   "outputs": [],
   "source": [
    "c_c[\"Italy\"] = \"Rome\""
   ]
  },
  {
   "cell_type": "code",
   "execution_count": 26,
   "id": "80f0e142-538b-4edb-b57f-e8413db32331",
   "metadata": {},
   "outputs": [
    {
     "name": "stdout",
     "output_type": "stream",
     "text": [
      "{'Germany': 'Berlin', 'Canada': 'Ottawa', 'India': 'delhi', 'England': 'london', 'Italy': 'Rome'}\n"
     ]
    }
   ],
   "source": [
    "print(c_c)"
   ]
  },
  {
   "cell_type": "code",
   "execution_count": null,
   "id": "95e069bb-5702-451a-a3e6-6ba35fe76065",
   "metadata": {},
   "outputs": [],
   "source": []
  },
  {
   "cell_type": "markdown",
   "id": "3b691cc7-7bdc-403a-83a4-e4caf3f05885",
   "metadata": {},
   "source": [
    "# Deletion"
   ]
  },
  {
   "cell_type": "code",
   "execution_count": 28,
   "id": "fc96c9f8-a6b7-4cb8-a3c5-65dd97ec1d11",
   "metadata": {},
   "outputs": [],
   "source": [
    "del c_c[\"Germany\"]                #Deletion in dictionary"
   ]
  },
  {
   "cell_type": "code",
   "execution_count": 29,
   "id": "e3a23447-afd4-4573-928e-e28d08430086",
   "metadata": {},
   "outputs": [
    {
     "data": {
      "text/plain": [
       "{'Canada': 'Ottawa', 'India': 'delhi', 'England': 'london', 'Italy': 'Rome'}"
      ]
     },
     "execution_count": 29,
     "metadata": {},
     "output_type": "execute_result"
    }
   ],
   "source": [
    "c_c"
   ]
  },
  {
   "cell_type": "code",
   "execution_count": null,
   "id": "4feeb89f-fc4c-4ceb-829e-041f5dc17ec3",
   "metadata": {},
   "outputs": [],
   "source": [
    "#If we need to remove all items from a dictionary at once, we can use the clear() method."
   ]
  },
  {
   "cell_type": "code",
   "execution_count": 30,
   "id": "62c9eba6-7a73-419b-b1f5-529ef617ee7c",
   "metadata": {},
   "outputs": [],
   "source": [
    "c_c.clear()"
   ]
  },
  {
   "cell_type": "code",
   "execution_count": 31,
   "id": "b04968de-6d85-4d58-b793-d69667e561d1",
   "metadata": {},
   "outputs": [
    {
     "name": "stdout",
     "output_type": "stream",
     "text": [
      "{}\n"
     ]
    }
   ],
   "source": [
    "print(c_c)"
   ]
  },
  {
   "cell_type": "markdown",
   "id": "84d61f1a-6275-4640-945d-276d13e8ec19",
   "metadata": {},
   "source": [
    "# Change"
   ]
  },
  {
   "cell_type": "code",
   "execution_count": 32,
   "id": "416acda4-401d-415d-b285-b865cdac073f",
   "metadata": {},
   "outputs": [],
   "source": [
    "country_capitals = {\n",
    "  \"Germany\": \"Berlin\", \n",
    "  \"Italy\": \"Naples\", \n",
    "  \"England\": \"London\"\n",
    "}\n",
    "\n",
    "# change the value of \"Italy\" key to \"Rome\"\n",
    "country_capitals[\"Italy\"] = \"Rome\""
   ]
  },
  {
   "cell_type": "code",
   "execution_count": 35,
   "id": "ebd70774-80ed-498c-801e-de85a70ed072",
   "metadata": {},
   "outputs": [
    {
     "name": "stdout",
     "output_type": "stream",
     "text": [
      "{'Germany': 'Berlin', 'Italy': 'Rome', 'England': 'London'}\n"
     ]
    }
   ],
   "source": [
    "print(country_capitals)"
   ]
  },
  {
   "cell_type": "markdown",
   "id": "85200ae9-9ace-4a1c-803f-b10aab05a270",
   "metadata": {},
   "source": [
    "# Iterate Through a Dictionary"
   ]
  },
  {
   "cell_type": "code",
   "execution_count": 34,
   "id": "b40bb020-cefb-4fae-9576-ea6964446fea",
   "metadata": {},
   "outputs": [
    {
     "name": "stdout",
     "output_type": "stream",
     "text": [
      "Germany\n",
      "Italy\n",
      "England\n"
     ]
    }
   ],
   "source": [
    "for i in country_capitals:                      # print dictionary keys one by one\n",
    "    print(i)                                       "
   ]
  },
  {
   "cell_type": "code",
   "execution_count": 37,
   "id": "756a9ba1-491c-4974-906b-acd2b66cc29d",
   "metadata": {},
   "outputs": [
    {
     "name": "stdout",
     "output_type": "stream",
     "text": [
      "Berlin\n",
      "Rome\n",
      "London\n"
     ]
    }
   ],
   "source": [
    "for i in country_capitals:                      #print dictionary values one by one\n",
    "    capitals=country_capitals[i]\n",
    "    print(capitals)"
   ]
  },
  {
   "cell_type": "code",
   "execution_count": null,
   "id": "0ac6b2dd-aac5-4830-a2ce-afeacda9bf23",
   "metadata": {},
   "outputs": [],
   "source": []
  },
  {
   "cell_type": "markdown",
   "id": "8fb7424f-ca3f-4f72-85b2-f1cea5c504dc",
   "metadata": {},
   "source": [
    "# Dictionary Membership Test\n",
    "We can check whether a key exists in a dictionary by using the in and not in operators."
   ]
  },
  {
   "cell_type": "code",
   "execution_count": 39,
   "id": "deb1dc85-9688-4eec-b086-8f41291c589b",
   "metadata": {},
   "outputs": [],
   "source": [
    "allesgut={\"hallo\":\"Gutentag\",\n",
    "          \"wie geht's\":\"Mir geht es gut\",\n",
    "          \"Es tut mir lied\":\"Alle kommen\",\n",
    "          \"Tchuss\":\"Bis bald\"}"
   ]
  },
  {
   "cell_type": "code",
   "execution_count": 40,
   "id": "298f060e-1efb-4c2f-8539-8dfa28fc2a26",
   "metadata": {},
   "outputs": [
    {
     "name": "stdout",
     "output_type": "stream",
     "text": [
      "{'hallo': 'Gutentag', \"wie geht's\": 'Mir geht es gut', 'Es tut mir lied': 'Alle kommen', 'Tchuss': 'Bis bald'}\n"
     ]
    }
   ],
   "source": [
    "print(allesgut)"
   ]
  },
  {
   "cell_type": "code",
   "execution_count": 42,
   "id": "46eabb95-7775-4c33-a38e-555ecd0ea829",
   "metadata": {},
   "outputs": [
    {
     "data": {
      "text/plain": [
       "True"
      ]
     },
     "execution_count": 42,
     "metadata": {},
     "output_type": "execute_result"
    }
   ],
   "source": [
    "\"hallo\" in allesgut"
   ]
  },
  {
   "cell_type": "code",
   "execution_count": 43,
   "id": "ba52e091-05b0-49f0-93b5-3c29c6f10f56",
   "metadata": {},
   "outputs": [
    {
     "data": {
      "text/plain": [
       "False"
      ]
     },
     "execution_count": 43,
     "metadata": {},
     "output_type": "execute_result"
    }
   ],
   "source": [
    "\"ha\" in allesgut"
   ]
  },
  {
   "cell_type": "code",
   "execution_count": 46,
   "id": "ef86a465-707b-4cce-924e-bfdefe069033",
   "metadata": {},
   "outputs": [
    {
     "name": "stdout",
     "output_type": "stream",
     "text": [
      "False\n"
     ]
    }
   ],
   "source": [
    "print(\"Tchuss\" not in allesgut)"
   ]
  },
  {
   "cell_type": "code",
   "execution_count": null,
   "id": "4bdbd228-bee9-4adc-92c4-762369c06866",
   "metadata": {},
   "outputs": [],
   "source": []
  },
  {
   "cell_type": "code",
   "execution_count": 48,
   "id": "3e67483d-7382-4b32-8b28-c8328a7cc3ac",
   "metadata": {},
   "outputs": [],
   "source": [
    "allesgute={\"hallo\":\"Gutentag\",\n",
    "          \"wie geht's\":\"Mir geht es gut\",\n",
    "          \"Es tut mir lied\":\"Alle kommen\",\n",
    "          \"Tchuss\":\"Bis bald\"}\n",
    "nichtgute={\"hallo\":\"Gutenabend\",\n",
    "          \"wie geht's\":\"Mir geht es nicht gut\",\n",
    "          \"Es tut mir lied\":\"Alle ist nicht kommen\",\n",
    "          \"Tchuss\":\"Bis bald\"}"
   ]
  },
  {
   "cell_type": "code",
   "execution_count": null,
   "id": "7355a0e9-a77c-4b11-bfc6-4abf79a46da1",
   "metadata": {},
   "outputs": [],
   "source": [
    "gute=allesgute+nichtgute               #Not supported in dictionary"
   ]
  },
  {
   "cell_type": "code",
   "execution_count": 50,
   "id": "9e919ccf-bd34-48dc-8fe0-cb87e2a9b5d9",
   "metadata": {},
   "outputs": [],
   "source": [
    "allesgute.update(nichtgute)            #Updating values of allesgute"
   ]
  },
  {
   "cell_type": "code",
   "execution_count": 51,
   "id": "24a9f3a0-5d89-4120-b3d4-37990a34e523",
   "metadata": {},
   "outputs": [
    {
     "data": {
      "text/plain": [
       "{'hallo': 'Gutenabend',\n",
       " \"wie geht's\": 'Mir geht es nicht gut',\n",
       " 'Es tut mir lied': 'Alle ist nicht kommen',\n",
       " 'Tchuss': 'Bis bald'}"
      ]
     },
     "execution_count": 51,
     "metadata": {},
     "output_type": "execute_result"
    }
   ],
   "source": [
    "allesgute "
   ]
  },
  {
   "cell_type": "code",
   "execution_count": 53,
   "id": "5cfb2913-01ff-4c1a-a20c-64ae6385bbd0",
   "metadata": {},
   "outputs": [
    {
     "data": {
      "text/plain": [
       "dict_items([('hallo', 'Gutenabend'), (\"wie geht's\", 'Mir geht es nicht gut'), ('Es tut mir lied', 'Alle ist nicht kommen'), ('Tchuss', 'Bis bald')])"
      ]
     },
     "execution_count": 53,
     "metadata": {},
     "output_type": "execute_result"
    }
   ],
   "source": [
    "allesgute.items()"
   ]
  },
  {
   "cell_type": "code",
   "execution_count": null,
   "id": "addd07fd-138c-428d-8447-3f968e6e45ab",
   "metadata": {},
   "outputs": [],
   "source": []
  },
  {
   "cell_type": "code",
   "execution_count": null,
   "id": "77e55de4-22dc-4c14-a512-963f3680010e",
   "metadata": {},
   "outputs": [],
   "source": [
    "# Storing data strcture in dictionary"
   ]
  },
  {
   "cell_type": "code",
   "execution_count": 62,
   "id": "f33922a9-7e33-45f9-940a-72f1a8c02030",
   "metadata": {},
   "outputs": [],
   "source": [
    "d2={'A':'L',\n",
    "    'B':'M',\n",
    "    'C':'N',\n",
    "    'D':'O',\n",
    "    'E':'P'\n",
    "   }"
   ]
  },
  {
   "cell_type": "code",
   "execution_count": 63,
   "id": "a8aa3a15-6752-400d-b234-22877e40e907",
   "metadata": {},
   "outputs": [
    {
     "data": {
      "text/plain": [
       "'L'"
      ]
     },
     "execution_count": 63,
     "metadata": {},
     "output_type": "execute_result"
    }
   ],
   "source": [
    "d2['A']"
   ]
  },
  {
   "cell_type": "code",
   "execution_count": 74,
   "id": "2eac7b6a-601c-453f-996f-4c82f43f2620",
   "metadata": {},
   "outputs": [
    {
     "name": "stdout",
     "output_type": "stream",
     "text": [
      "A L\n",
      "B M\n",
      "C N\n",
      "D O\n",
      "E P\n"
     ]
    }
   ],
   "source": [
    "for x in d2:\n",
    "    print(x,d2[x])"
   ]
  },
  {
   "cell_type": "code",
   "execution_count": null,
   "id": "123765c0-e578-46e2-99c3-eac3c8156fbc",
   "metadata": {},
   "outputs": [],
   "source": []
  },
  {
   "cell_type": "code",
   "execution_count": null,
   "id": "0ca20439-f6dc-4ea8-9db7-d8e496f219c1",
   "metadata": {},
   "outputs": [],
   "source": [
    "d2={\"A\":\"L\"\n",
    "    \"B\":\"M\"\n",
    "    \"C\":\"N\"\n",
    "    \"D\":\"O\"\n",
    "    \"E\":\"P\"\n",
    "   }"
   ]
  }
 ],
 "metadata": {
  "kernelspec": {
   "display_name": "Python [conda env:base] *",
   "language": "python",
   "name": "conda-base-py"
  },
  "language_info": {
   "codemirror_mode": {
    "name": "ipython",
    "version": 3
   },
   "file_extension": ".py",
   "mimetype": "text/x-python",
   "name": "python",
   "nbconvert_exporter": "python",
   "pygments_lexer": "ipython3",
   "version": "3.12.7"
  }
 },
 "nbformat": 4,
 "nbformat_minor": 5
}

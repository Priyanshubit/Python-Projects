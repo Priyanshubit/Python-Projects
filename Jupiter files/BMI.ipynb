{
 "cells": [
  {
   "cell_type": "markdown",
   "id": "0ad64c15-d812-4811-b96b-a85d864a3141",
   "metadata": {},
   "source": [
    "# BMI Calculator"
   ]
  },
  {
   "cell_type": "code",
   "execution_count": null,
   "id": "afc46a82-1f4c-4546-af21-25aeb063c746",
   "metadata": {},
   "outputs": [],
   "source": [
    "BMI= (Weight in pounds * 703) / (Height in inches * Height in inches)"
   ]
  },
  {
   "cell_type": "code",
   "execution_count": 9,
   "id": "e68d9a14-91fb-4176-a9ea-7e75a232b9b4",
   "metadata": {},
   "outputs": [
    {
     "name": "stdin",
     "output_type": "stream",
     "text": [
      "Enter your weight in pounds: 234\n",
      "Enter your height in inches: 45\n"
     ]
    },
    {
     "name": "stdout",
     "output_type": "stream",
     "text": [
      "81.23555555555555\n"
     ]
    }
   ],
   "source": [
    "weight= int(input('Enter your weight in pounds:'))\n",
    "height= int(input('Enter your height in inches:'))\n",
    "BMI= (weight * 703) / (height * height)\n",
    "print(BMI)\n"
   ]
  },
  {
   "cell_type": "code",
   "execution_count": 13,
   "id": "13f1152c-92f4-4ff7-9b9c-96391bc44ebe",
   "metadata": {},
   "outputs": [
    {
     "name": "stdin",
     "output_type": "stream",
     "text": [
      "Enter your weight in pounds: 234\n",
      "Enter your height in inches: 32\n"
     ]
    },
    {
     "name": "stdout",
     "output_type": "stream",
     "text": [
      "160.646484375\n",
      "Enter Valid outputs\n"
     ]
    }
   ],
   "source": [
    "weight= int(input('Enter your weight in pounds:'))\n",
    "height= int(input('Enter your height in inches:'))\n",
    "BMI= (weight * 703) / (height * height)\n",
    "print(BMI)\n",
    "\n",
    "if BMI>0:\n",
    "    if BMI<18.5:\n",
    "        print('Underweight')\n",
    "    elif BMI<=24.5:\n",
    "        print('Normal weight')\n",
    "    elif BMI<29.5:\n",
    "        print('Over weight')\n",
    "    elif BMI<=34.5:\n",
    "        print('High Obese')\n",
    "    elif BMI<39.5:\n",
    "        print('Extremely Obese')\n",
    "    else:\n",
    "        print('Enter Valid outputs')"
   ]
  },
  {
   "cell_type": "code",
   "execution_count": null,
   "id": "1c7f309d-e788-4698-bd2f-d8298a5fed61",
   "metadata": {},
   "outputs": [],
   "source": []
  },
  {
   "cell_type": "code",
   "execution_count": null,
   "id": "7622946d-7781-4fd8-837c-db3c49d29c4c",
   "metadata": {},
   "outputs": [],
   "source": []
  },
  {
   "cell_type": "code",
   "execution_count": null,
   "id": "45510413-341f-489a-b89e-95b0a969af57",
   "metadata": {},
   "outputs": [],
   "source": []
  },
  {
   "cell_type": "code",
   "execution_count": null,
   "id": "bc671077-dcd5-4613-ab8b-e22a6b8edbf3",
   "metadata": {},
   "outputs": [],
   "source": []
  },
  {
   "cell_type": "code",
   "execution_count": null,
   "id": "a1758d9a-74c9-40dd-8c9b-77fdf6adede3",
   "metadata": {},
   "outputs": [],
   "source": []
  },
  {
   "cell_type": "code",
   "execution_count": null,
   "id": "8ec91b5e-306d-46bd-8055-587f89b995c1",
   "metadata": {},
   "outputs": [],
   "source": []
  }
 ],
 "metadata": {
  "kernelspec": {
   "display_name": "Python [conda env:base] *",
   "language": "python",
   "name": "conda-base-py"
  },
  "language_info": {
   "codemirror_mode": {
    "name": "ipython",
    "version": 3
   },
   "file_extension": ".py",
   "mimetype": "text/x-python",
   "name": "python",
   "nbconvert_exporter": "python",
   "pygments_lexer": "ipython3",
   "version": "3.12.7"
  }
 },
 "nbformat": 4,
 "nbformat_minor": 5
}

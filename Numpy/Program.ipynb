{
 "cells": [
  {
   "cell_type": "markdown",
   "id": "a1e85968-0fce-4499-bfaa-d86072abe8d7",
   "metadata": {},
   "source": [
    "\"\"\" Let say you are a teacher and you have different studeny records containing id of a students and the marks list in each subject,\n",
    "    where different students have taken different number of subjects. All these records are in hard copy. you want to store the data\n",
    "    and want to compute the average marks of each students and display it. \"\"\""
   ]
  },
  {
   "cell_type": "code",
   "execution_count": 6,
   "id": "966bf5c0-ebea-4c7a-a462-44e711154f6b",
   "metadata": {},
   "outputs": [],
   "source": [
    "def getDatafunc():\n",
    "    D={}\n",
    "    while True:\n",
    "        studentID=input(\"Enter the student id:\")\n",
    "        marksList=input(\"Enter the marks, separated by comma:\")\n",
    "        moreStudents=input(\"Enter no (To quit inserton) if there is no more students left:\")\n",
    "        if studentID in D:\n",
    "            print(studentID,\"Student is already present\")\n",
    "        else:\n",
    "            D[studentID]=marksList.split(\",\")\n",
    "\n",
    "        if moreStudents.lower()==\"no\":\n",
    "            return D\n",
    "                  "
   ]
  },
  {
   "cell_type": "code",
   "execution_count": 7,
   "id": "3ac0a77c-a602-44c7-9b43-a7e5c78ef004",
   "metadata": {},
   "outputs": [
    {
     "name": "stdin",
     "output_type": "stream",
     "text": [
      "Enter the student id: 23\n",
      "Enter the marks, separated by comma: 34,56,67,90\n",
      "Enter no (To quit inserton) if there is no more students left: \n",
      "Enter the student id: 34\n",
      "Enter the marks, separated by comma: 34,56,99,29\n",
      "Enter no (To quit inserton) if there is no more students left: \n",
      "Enter the student id: 22\n",
      "Enter the marks, separated by comma: 34,23,56,34\n",
      "Enter no (To quit inserton) if there is no more students left: no\n"
     ]
    }
   ],
   "source": [
    "studentData=getDatafunc()"
   ]
  },
  {
   "cell_type": "code",
   "execution_count": 8,
   "id": "7087399d-4c9e-4899-ba94-65cc22803166",
   "metadata": {},
   "outputs": [
    {
     "data": {
      "text/plain": [
       "{'23': ['34', '56', '67', '90'],\n",
       " '34': ['34', '56', '99', '29'],\n",
       " '22': ['34', '23', '56', '34']}"
      ]
     },
     "execution_count": 8,
     "metadata": {},
     "output_type": "execute_result"
    }
   ],
   "source": [
    "studentData"
   ]
  },
  {
   "cell_type": "code",
   "execution_count": null,
   "id": "4249db8e-1b82-4149-91ab-db04cff0aa18",
   "metadata": {},
   "outputs": [],
   "source": [
    "#Average marks fuction"
   ]
  },
  {
   "cell_type": "code",
   "execution_count": 15,
   "id": "c935dc6a-9520-481c-b2a8-899b28b40387",
   "metadata": {},
   "outputs": [],
   "source": [
    "def getAvgMarks(D):\n",
    "    avgMarks={}\n",
    "    for x in D:\n",
    "        L=D[x]\n",
    "        s=0\n",
    "        for marks in L:\n",
    "            s+=int(marks)\n",
    "            avgMarks[x]=s/len(L)\n",
    "    return avgMarks\n",
    "            \n",
    "    "
   ]
  },
  {
   "cell_type": "code",
   "execution_count": 16,
   "id": "f472162f-8b07-4fea-9f4f-c95604c59c8b",
   "metadata": {},
   "outputs": [],
   "source": [
    "avgM=getAvgMarks(studentData)"
   ]
  },
  {
   "cell_type": "code",
   "execution_count": 17,
   "id": "d18a893e-245f-48a0-a882-e1f75a213f2b",
   "metadata": {},
   "outputs": [
    {
     "name": "stdout",
     "output_type": "stream",
     "text": [
      "student: 23 Got avg marks: 61.75\n",
      "student: 34 Got avg marks: 54.5\n",
      "student: 22 Got avg marks: 36.75\n"
     ]
    }
   ],
   "source": [
    "for x in avgM:\n",
    "    print(\"student:\",x,\"Got avg marks:\",avgM[x])"
   ]
  }
 ],
 "metadata": {
  "kernelspec": {
   "display_name": "Python [conda env:base] *",
   "language": "python",
   "name": "conda-base-py"
  },
  "language_info": {
   "codemirror_mode": {
    "name": "ipython",
    "version": 3
   },
   "file_extension": ".py",
   "mimetype": "text/x-python",
   "name": "python",
   "nbconvert_exporter": "python",
   "pygments_lexer": "ipython3",
   "version": "3.12.7"
  }
 },
 "nbformat": 4,
 "nbformat_minor": 5
}

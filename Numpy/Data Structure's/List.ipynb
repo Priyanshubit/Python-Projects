{
 "cells": [
  {
   "cell_type": "markdown",
   "id": "793bd3ce-2a63-44e0-aca0-cf4507101e1d",
   "metadata": {},
   "source": [
    "# List"
   ]
  },
  {
   "cell_type": "code",
   "execution_count": null,
   "id": "11ca733e-47ef-4d68-acd0-037f289f7b57",
   "metadata": {},
   "outputs": [],
   "source": [
    "# List is used to store multiple items in a single variable \n",
    "# Structure: Ordered, mutable (changeable), indexed sequence.\n",
    "# Implementation: Dynamic array under the hood.\n",
    "# Functionality: Can store heterogeneous data, supports slicing, appending, removing, sorting, iteration.\n",
    "# Can contain duplicate items."
   ]
  },
  {
   "cell_type": "code",
   "execution_count": 1,
   "id": "09ef4bdd-ff19-4280-8718-f33985ea85d3",
   "metadata": {},
   "outputs": [],
   "source": [
    "l=[1,3,5,\"Hister\",67,\"6996\"]"
   ]
  },
  {
   "cell_type": "code",
   "execution_count": 2,
   "id": "c746001e-3264-4faf-aee8-9a773a3787c0",
   "metadata": {},
   "outputs": [
    {
     "name": "stdout",
     "output_type": "stream",
     "text": [
      "[1, 3, 5, 'Hister', 67, '6996']\n"
     ]
    }
   ],
   "source": [
    "print(l)"
   ]
  },
  {
   "cell_type": "code",
   "execution_count": 3,
   "id": "fd9d7443-bb8b-4441-8cf2-98d0532199c8",
   "metadata": {},
   "outputs": [
    {
     "data": {
      "text/plain": [
       "list"
      ]
     },
     "execution_count": 3,
     "metadata": {},
     "output_type": "execute_result"
    }
   ],
   "source": [
    "type(l)        #Type of list"
   ]
  },
  {
   "cell_type": "code",
   "execution_count": 4,
   "id": "06c24949-1f4c-4471-a211-49900a3cf5d8",
   "metadata": {},
   "outputs": [
    {
     "data": {
      "text/plain": [
       "'6996'"
      ]
     },
     "execution_count": 4,
     "metadata": {},
     "output_type": "execute_result"
    }
   ],
   "source": [
    "l[5]        #indexing"
   ]
  },
  {
   "cell_type": "code",
   "execution_count": 5,
   "id": "dc61c10f-4468-4a1b-a7de-719b13f01453",
   "metadata": {},
   "outputs": [
    {
     "data": {
      "text/plain": [
       "str"
      ]
     },
     "execution_count": 5,
     "metadata": {},
     "output_type": "execute_result"
    }
   ],
   "source": [
    "type(l[5])   #Type of elements"
   ]
  },
  {
   "cell_type": "code",
   "execution_count": 6,
   "id": "a08bb97b-6aeb-4ea0-8aaf-38bbfa656a9b",
   "metadata": {},
   "outputs": [
    {
     "data": {
      "text/plain": [
       "int"
      ]
     },
     "execution_count": 6,
     "metadata": {},
     "output_type": "execute_result"
    }
   ],
   "source": [
    "type(l[1])"
   ]
  },
  {
   "cell_type": "code",
   "execution_count": 7,
   "id": "d9f7198a-84e1-4676-817f-20a848d7e960",
   "metadata": {},
   "outputs": [
    {
     "name": "stdout",
     "output_type": "stream",
     "text": [
      "6\n"
     ]
    }
   ],
   "source": [
    "print(len(l))      #length of list"
   ]
  },
  {
   "cell_type": "markdown",
   "id": "de3e78ff-1fed-486a-b74b-9ac8ef185931",
   "metadata": {},
   "source": [
    "# Insertion /Add/ Append"
   ]
  },
  {
   "cell_type": "code",
   "execution_count": 8,
   "id": "f4e28264-af3a-471d-a71b-d8026d686d8a",
   "metadata": {},
   "outputs": [],
   "source": [
    "a=list((\"apple\",\"mango\",\"banana\"))         #Create using constructor"
   ]
  },
  {
   "cell_type": "code",
   "execution_count": 9,
   "id": "442b3390-aa5b-4ffa-b3f4-495ea2f029d4",
   "metadata": {},
   "outputs": [
    {
     "data": {
      "text/plain": [
       "['apple', 'mango', 'banana']"
      ]
     },
     "execution_count": 9,
     "metadata": {},
     "output_type": "execute_result"
    }
   ],
   "source": [
    "a"
   ]
  },
  {
   "cell_type": "code",
   "execution_count": 10,
   "id": "466d0383-d267-47a1-b943-e7a5fb3f042b",
   "metadata": {},
   "outputs": [
    {
     "data": {
      "text/plain": [
       "list"
      ]
     },
     "execution_count": 10,
     "metadata": {},
     "output_type": "execute_result"
    }
   ],
   "source": [
    "type(a)"
   ]
  },
  {
   "cell_type": "code",
   "execution_count": 12,
   "id": "68038ac3-0532-4f12-8ea3-ad2749c1adb9",
   "metadata": {},
   "outputs": [],
   "source": [
    "b=a+[\"hello\"]          #appending value in the end"
   ]
  },
  {
   "cell_type": "code",
   "execution_count": 13,
   "id": "782d031f-7f72-4a72-b5db-31ba804a77e5",
   "metadata": {},
   "outputs": [
    {
     "data": {
      "text/plain": [
       "['apple', 'mango', 'banana', 'hello']"
      ]
     },
     "execution_count": 13,
     "metadata": {},
     "output_type": "execute_result"
    }
   ],
   "source": [
    "b"
   ]
  },
  {
   "cell_type": "code",
   "execution_count": 14,
   "id": "777e0ad9-5a2d-4a35-bff2-6300d10596c3",
   "metadata": {},
   "outputs": [],
   "source": [
    "b.append(\"this\")       #appending value in the end"
   ]
  },
  {
   "cell_type": "code",
   "execution_count": 15,
   "id": "cb112ae7-a1a8-476a-a8ef-7c41bd1adeeb",
   "metadata": {},
   "outputs": [
    {
     "data": {
      "text/plain": [
       "['apple', 'mango', 'banana', 'hello', 'this']"
      ]
     },
     "execution_count": 15,
     "metadata": {},
     "output_type": "execute_result"
    }
   ],
   "source": [
    "b"
   ]
  },
  {
   "cell_type": "code",
   "execution_count": 16,
   "id": "9be57bec-e170-4977-a8f6-e30e868049fb",
   "metadata": {},
   "outputs": [
    {
     "data": {
      "text/plain": [
       "['apple', 'mango', 'banana', 'hello', 'this', 78]"
      ]
     },
     "execution_count": 16,
     "metadata": {},
     "output_type": "execute_result"
    }
   ],
   "source": [
    "b.append(78)\n",
    "b"
   ]
  },
  {
   "cell_type": "code",
   "execution_count": 17,
   "id": "eac5fe93-eff9-46cd-b54d-c4041fb9da5e",
   "metadata": {},
   "outputs": [],
   "source": [
    "b.append(78)         # Can contain duplicate items."
   ]
  },
  {
   "cell_type": "code",
   "execution_count": 18,
   "id": "d75d5a12-3228-4490-bc1d-29021878c405",
   "metadata": {},
   "outputs": [
    {
     "data": {
      "text/plain": [
       "['apple', 'mango', 'banana', 'hello', 'this', 78, 78]"
      ]
     },
     "execution_count": 18,
     "metadata": {},
     "output_type": "execute_result"
    }
   ],
   "source": [
    "b"
   ]
  },
  {
   "cell_type": "code",
   "execution_count": 33,
   "id": "8b441e2e-3b8a-4275-8ef5-6a11bf4c3753",
   "metadata": {},
   "outputs": [],
   "source": [
    "b.insert(6,\"Prem\")     #inserting Prem at 6th index"
   ]
  },
  {
   "cell_type": "code",
   "execution_count": 34,
   "id": "8da23bd5-8c54-4e93-960e-c87594ec4b81",
   "metadata": {},
   "outputs": [
    {
     "data": {
      "text/plain": [
       "[0, 0, 0, 0, 'Prem']"
      ]
     },
     "execution_count": 34,
     "metadata": {},
     "output_type": "execute_result"
    }
   ],
   "source": [
    "b"
   ]
  },
  {
   "cell_type": "code",
   "execution_count": null,
   "id": "970fd599-e281-4c98-85b2-d41b3cdc17ad",
   "metadata": {},
   "outputs": [],
   "source": []
  },
  {
   "cell_type": "code",
   "execution_count": 19,
   "id": "3bedc73c-395c-49ae-8e7a-91e3200434b8",
   "metadata": {},
   "outputs": [],
   "source": [
    "b=[2]*5"
   ]
  },
  {
   "cell_type": "code",
   "execution_count": 20,
   "id": "ffd90d58-f2a3-4cc6-b239-0a6daf4688e8",
   "metadata": {},
   "outputs": [
    {
     "data": {
      "text/plain": [
       "[2, 2, 2, 2, 2]"
      ]
     },
     "execution_count": 20,
     "metadata": {},
     "output_type": "execute_result"
    }
   ],
   "source": [
    "b"
   ]
  },
  {
   "cell_type": "code",
   "execution_count": 23,
   "id": "5f8e66c5-1a7e-436b-a43d-567a72b6f4a6",
   "metadata": {},
   "outputs": [],
   "source": [
    "b=[0]*4"
   ]
  },
  {
   "cell_type": "code",
   "execution_count": 24,
   "id": "3a129036-e91e-4d35-a7a3-20de9a1c6d9c",
   "metadata": {},
   "outputs": [
    {
     "data": {
      "text/plain": [
       "[0, 0, 0, 0]"
      ]
     },
     "execution_count": 24,
     "metadata": {},
     "output_type": "execute_result"
    }
   ],
   "source": [
    "b"
   ]
  },
  {
   "cell_type": "code",
   "execution_count": null,
   "id": "c5931645-e22e-43ef-9bdd-40015e28edb7",
   "metadata": {},
   "outputs": [],
   "source": []
  },
  {
   "cell_type": "code",
   "execution_count": 25,
   "id": "aeeb367c-ffa6-4050-a2d9-e81362538970",
   "metadata": {},
   "outputs": [],
   "source": [
    "d=['apple', 'mango', 'banana', 'hello', 'this', 78, 78,78,'t']"
   ]
  },
  {
   "cell_type": "code",
   "execution_count": 28,
   "id": "2eeea7cb-8ebb-410a-97eb-fc69ef5e70c0",
   "metadata": {},
   "outputs": [
    {
     "data": {
      "text/plain": [
       "['t', 78, 78, 78, 'this', 'hello', 'banana', 'mango', 'apple']"
      ]
     },
     "execution_count": 28,
     "metadata": {},
     "output_type": "execute_result"
    }
   ],
   "source": [
    "d[::-1]          #Reverse"
   ]
  },
  {
   "cell_type": "code",
   "execution_count": 31,
   "id": "1df567eb-ddd8-4095-801a-bf18aaa29cd3",
   "metadata": {},
   "outputs": [],
   "source": [
    "d.insert(6,\"hi\")       #inserting hi at 6th index"
   ]
  },
  {
   "cell_type": "code",
   "execution_count": 32,
   "id": "046445b3-feb2-4b80-8be8-5c8178acfc8e",
   "metadata": {},
   "outputs": [
    {
     "data": {
      "text/plain": [
       "['apple', 'mango', 'banana', 'hello', 'this', 78, 'hi', 78, 78, 't']"
      ]
     },
     "execution_count": 32,
     "metadata": {},
     "output_type": "execute_result"
    }
   ],
   "source": [
    "d"
   ]
  },
  {
   "cell_type": "code",
   "execution_count": null,
   "id": "46744c26-7980-4d52-a9aa-1cc20b36339a",
   "metadata": {},
   "outputs": [],
   "source": []
  },
  {
   "cell_type": "markdown",
   "id": "2cf8f488-3bd6-4c9f-b869-cefb2a648d2d",
   "metadata": {},
   "source": [
    "# Updating Elements into List\n",
    "We can change the value of an element by accessing it using its index."
   ]
  },
  {
   "cell_type": "code",
   "execution_count": 35,
   "id": "ab1d9ed9-bab0-4afd-bd85-2098701fbf4a",
   "metadata": {},
   "outputs": [],
   "source": [
    "ListL=['apple', 'mango', 'banana', 'hello', 'this', 78, 'hi', 78, 78, 't']\n"
   ]
  },
  {
   "cell_type": "code",
   "execution_count": 36,
   "id": "dea5fa7e-08e2-44da-b512-e7aa0915fa1c",
   "metadata": {},
   "outputs": [],
   "source": [
    "ListL[0]=\"Avacado\""
   ]
  },
  {
   "cell_type": "code",
   "execution_count": 37,
   "id": "c96914bc-f7e9-4bc8-ba77-28f060b671f3",
   "metadata": {},
   "outputs": [
    {
     "data": {
      "text/plain": [
       "['Avacado', 'mango', 'banana', 'hello', 'this', 78, 'hi', 78, 78, 't']"
      ]
     },
     "execution_count": 37,
     "metadata": {},
     "output_type": "execute_result"
    }
   ],
   "source": [
    "ListL"
   ]
  },
  {
   "cell_type": "code",
   "execution_count": null,
   "id": "a685b661-e3ad-4b1e-ab3b-878866d092e1",
   "metadata": {},
   "outputs": [],
   "source": []
  },
  {
   "cell_type": "markdown",
   "id": "e079774a-5bf1-4557-867c-f83ed5f33905",
   "metadata": {},
   "source": [
    "# Removing Elements from List\n",
    "We can remove elements from a list using:\n",
    "\n",
    "remove(): Removes the first occurrence of an element.\n",
    "\n",
    "pop(): Removes the element at a specific index or the last element if no index is specified.\n",
    "\n",
    "del statement: Deletes an element at a specified index."
   ]
  },
  {
   "cell_type": "code",
   "execution_count": 50,
   "id": "cb933008-181a-49e6-a9f4-a6ffa8851761",
   "metadata": {},
   "outputs": [],
   "source": [
    "ListB=[\"Aryan\",\"Sonia\",\"Ayush\",\"Piyush\",\"Priya\",\"Radha\"]"
   ]
  },
  {
   "cell_type": "code",
   "execution_count": 51,
   "id": "9400be7c-d1b6-4b6b-bdc1-e2aee404f5d5",
   "metadata": {},
   "outputs": [],
   "source": [
    "ListB.remove(\"Radha\")         #Removing Radha from thi list"
   ]
  },
  {
   "cell_type": "code",
   "execution_count": 52,
   "id": "49d005e2-5c89-418f-a270-bfc5e90f6a6d",
   "metadata": {},
   "outputs": [
    {
     "data": {
      "text/plain": [
       "['Aryan', 'Sonia', 'Ayush', 'Piyush', 'Priya']"
      ]
     },
     "execution_count": 52,
     "metadata": {},
     "output_type": "execute_result"
    }
   ],
   "source": [
    "ListB"
   ]
  },
  {
   "cell_type": "code",
   "execution_count": 53,
   "id": "d73efbef-48c0-42b2-97dd-d21bd3ca0d59",
   "metadata": {},
   "outputs": [
    {
     "data": {
      "text/plain": [
       "'Priya'"
      ]
     },
     "execution_count": 53,
     "metadata": {},
     "output_type": "execute_result"
    }
   ],
   "source": [
    "ListB.pop()           #Removing the last element"
   ]
  },
  {
   "cell_type": "code",
   "execution_count": 54,
   "id": "db5bbee6-1c50-4d53-b6e0-94642fdd2172",
   "metadata": {},
   "outputs": [
    {
     "data": {
      "text/plain": [
       "['Aryan', 'Sonia', 'Ayush', 'Piyush']"
      ]
     },
     "execution_count": 54,
     "metadata": {},
     "output_type": "execute_result"
    }
   ],
   "source": [
    "ListB"
   ]
  },
  {
   "cell_type": "code",
   "execution_count": null,
   "id": "7a197d3c-69b4-4c78-9751-cdc811417f2f",
   "metadata": {},
   "outputs": [],
   "source": []
  },
  {
   "cell_type": "code",
   "execution_count": 55,
   "id": "3b05733d-c23e-4387-a97b-ae7af101d1a8",
   "metadata": {},
   "outputs": [],
   "source": [
    "del ListB[0]        #Deleting element at 0 index"
   ]
  },
  {
   "cell_type": "code",
   "execution_count": 56,
   "id": "879065b0-da16-4a21-94f9-a9de10f28579",
   "metadata": {},
   "outputs": [
    {
     "name": "stdout",
     "output_type": "stream",
     "text": [
      "After del a[0]: ['Sonia', 'Ayush', 'Piyush']\n"
     ]
    }
   ],
   "source": [
    "print(\"After del a[0]:\", ListB)"
   ]
  },
  {
   "cell_type": "code",
   "execution_count": null,
   "id": "2016652a-fa10-4880-9ee2-eec3e8a12e9e",
   "metadata": {},
   "outputs": [],
   "source": []
  },
  {
   "cell_type": "markdown",
   "id": "cda531f3-1cd0-4d3a-a860-db61cbc9abf4",
   "metadata": {},
   "source": [
    "# Iteration in List"
   ]
  },
  {
   "cell_type": "code",
   "execution_count": 57,
   "id": "b564a977-5612-4dd1-b6e1-4759521ebc7c",
   "metadata": {},
   "outputs": [],
   "source": [
    "a = ['apple', 'banana', 'cherry']"
   ]
  },
  {
   "cell_type": "code",
   "execution_count": 58,
   "id": "cd20612d-dccf-4de2-8bda-3ab8fd8495e0",
   "metadata": {},
   "outputs": [
    {
     "name": "stdout",
     "output_type": "stream",
     "text": [
      "apple\n",
      "banana\n",
      "cherry\n"
     ]
    }
   ],
   "source": [
    "# Iterating over the list\n",
    "for item in a:\n",
    "    print(item)"
   ]
  },
  {
   "cell_type": "code",
   "execution_count": null,
   "id": "8bc69363-ff46-4ebe-9372-bab9b61ccf4a",
   "metadata": {},
   "outputs": [],
   "source": []
  },
  {
   "cell_type": "markdown",
   "id": "9f1d1c61-a828-49ed-9b31-e4b84e11c29f",
   "metadata": {},
   "source": [
    "# Nested Lists in Python\n",
    "A nested list is a list within another list, which is useful for representing matrices or tables. We can access nested elements by chaining indexes."
   ]
  },
  {
   "cell_type": "code",
   "execution_count": 59,
   "id": "340aee2a-5377-4a2d-9677-f8afb6594c7e",
   "metadata": {},
   "outputs": [],
   "source": [
    "matrix = [\n",
    "    [1, 2, 3],\n",
    "    [4, 5, 6],\n",
    "    [7, 8, 9]\n",
    "]"
   ]
  },
  {
   "cell_type": "code",
   "execution_count": 60,
   "id": "0af91d1a-03de-4054-9197-64d1ff27b17a",
   "metadata": {},
   "outputs": [
    {
     "name": "stdout",
     "output_type": "stream",
     "text": [
      "6\n"
     ]
    }
   ],
   "source": [
    "# Access element at row 2, column 3\n",
    "print(matrix[1][2])"
   ]
  },
  {
   "cell_type": "code",
   "execution_count": 64,
   "id": "44917968-3454-47ce-adcf-a1c77675a2ad",
   "metadata": {},
   "outputs": [],
   "source": [
    "# Create a list of squares from 1 to 5\n",
    "\n",
    "squares = [x**2 for x in range(1, 6)]"
   ]
  },
  {
   "cell_type": "code",
   "execution_count": 65,
   "id": "7b9a0382-c9ab-46de-8532-e8ce6a214285",
   "metadata": {},
   "outputs": [
    {
     "name": "stdout",
     "output_type": "stream",
     "text": [
      "[1, 4, 9, 16, 25]\n"
     ]
    }
   ],
   "source": [
    "print(squares)"
   ]
  },
  {
   "cell_type": "code",
   "execution_count": 69,
   "id": "8a3314ed-ea6d-4133-bf1b-e0627c9e24ee",
   "metadata": {},
   "outputs": [],
   "source": []
  },
  {
   "cell_type": "code",
   "execution_count": null,
   "id": "8bf9289a-c398-4a78-9d12-9beb203b6978",
   "metadata": {},
   "outputs": [],
   "source": []
  }
 ],
 "metadata": {
  "kernelspec": {
   "display_name": "Python [conda env:base] *",
   "language": "python",
   "name": "conda-base-py"
  },
  "language_info": {
   "codemirror_mode": {
    "name": "ipython",
    "version": 3
   },
   "file_extension": ".py",
   "mimetype": "text/x-python",
   "name": "python",
   "nbconvert_exporter": "python",
   "pygments_lexer": "ipython3",
   "version": "3.12.7"
  }
 },
 "nbformat": 4,
 "nbformat_minor": 5
}

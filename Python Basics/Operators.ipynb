{
 "cells": [
  {
   "cell_type": "markdown",
   "id": "f9ad8486-f4b0-4fa5-a4ff-e921f5c0f5bf",
   "metadata": {},
   "source": [
    "# Operators: Operators are special symbols or keywords that are used to perform some specific operations."
   ]
  },
  {
   "cell_type": "code",
   "execution_count": null,
   "id": "f661eef9-5750-469d-956e-2157468f406d",
   "metadata": {},
   "outputs": [],
   "source": []
  },
  {
   "cell_type": "markdown",
   "id": "0df08bdb-8f4b-45ca-b6e4-bda80b38d018",
   "metadata": {},
   "source": [
    "# Python Arithmetic Operators"
   ]
  },
  {
   "cell_type": "code",
   "execution_count": 2,
   "id": "2bee7f12-d0ec-483d-bb31-c11f9fc1b024",
   "metadata": {},
   "outputs": [],
   "source": [
    "a,b=2,3"
   ]
  },
  {
   "cell_type": "code",
   "execution_count": 3,
   "id": "d33934f5-2642-430e-9c0f-27ee67da2d49",
   "metadata": {},
   "outputs": [
    {
     "data": {
      "text/plain": [
       "2"
      ]
     },
     "execution_count": 3,
     "metadata": {},
     "output_type": "execute_result"
    }
   ],
   "source": [
    "a\n"
   ]
  },
  {
   "cell_type": "code",
   "execution_count": 14,
   "id": "f7f3e630-7248-4d0d-b69e-88e382fdd54b",
   "metadata": {},
   "outputs": [],
   "source": [
    "m,l,t,s,k=23,68,\"Hello\",23.45,45.6"
   ]
  },
  {
   "cell_type": "code",
   "execution_count": 5,
   "id": "f21c0ec6-428b-4e2a-9683-4646da3b6195",
   "metadata": {},
   "outputs": [
    {
     "data": {
      "text/plain": [
       "'Hello'"
      ]
     },
     "execution_count": 5,
     "metadata": {},
     "output_type": "execute_result"
    }
   ],
   "source": [
    "t"
   ]
  },
  {
   "cell_type": "markdown",
   "id": "f3024420-c1b8-4bf0-b5a7-190d21e969e9",
   "metadata": {},
   "source": [
    "# 1. Addition operator"
   ]
  },
  {
   "cell_type": "code",
   "execution_count": 6,
   "id": "37206e4c-ac2a-4d79-bb4a-d282687cef02",
   "metadata": {},
   "outputs": [],
   "source": [
    "sumOfAandB=a+b  "
   ]
  },
  {
   "cell_type": "code",
   "execution_count": 7,
   "id": "4e56b9b4-5d86-490d-9a0d-a9a5d8590850",
   "metadata": {},
   "outputs": [
    {
     "data": {
      "text/plain": [
       "5"
      ]
     },
     "execution_count": 7,
     "metadata": {},
     "output_type": "execute_result"
    }
   ],
   "source": [
    "sumOfAandB"
   ]
  },
  {
   "cell_type": "code",
   "execution_count": 8,
   "id": "bbd8a511-2885-49a9-98df-ef1cdfa7418e",
   "metadata": {},
   "outputs": [
    {
     "name": "stdout",
     "output_type": "stream",
     "text": [
      "5\n"
     ]
    }
   ],
   "source": [
    "print(sumOfAandB)"
   ]
  },
  {
   "cell_type": "code",
   "execution_count": 11,
   "id": "46f4d5db-9912-4123-ae77-eea47e18f8db",
   "metadata": {},
   "outputs": [
    {
     "name": "stdout",
     "output_type": "stream",
     "text": [
      "Variable               Type        Data/Info\n",
      "--------------------------------------------\n",
      "a                      int         2\n",
      "b                      int         3\n",
      "dataframe_columns      function    <function dataframe_colum<...>ns at 0x00000297BEC99DA0>\n",
      "dataframe_hash         function    <function dataframe_hash at 0x00000297BC4E13A0>\n",
      "dtypes_str             function    <function dtypes_str at 0x00000297BEB53880>\n",
      "get_dataframes         function    <function get_dataframes at 0x00000297BC4E0D60>\n",
      "getpass                module      <module 'getpass' from 'C<...>conda3\\\\Lib\\\\getpass.py'>\n",
      "hashlib                module      <module 'hashlib' from 'C<...>conda3\\\\Lib\\\\hashlib.py'>\n",
      "import_pandas_safely   function    <function import_pandas_s<...>ly at 0x00000297BDA87920>\n",
      "is_data_frame          function    <function is_data_frame at 0x00000297BEB53920>\n",
      "json                   module      <module 'json' from 'C:\\\\<...>\\Lib\\\\json\\\\__init__.py'>\n",
      "l                      int         68\n",
      "m                      int         23\n",
      "sumOfAandB             int         5\n",
      "t                      str         Hello\n"
     ]
    }
   ],
   "source": [
    "whos  #A collection of facts about Python that do not fit into the main lesson either due to the scope or time constraints of the main lesson"
   ]
  },
  {
   "cell_type": "code",
   "execution_count": 12,
   "id": "87a2eb7b-9536-4b55-b7e7-adb13b23510a",
   "metadata": {},
   "outputs": [
    {
     "data": {
      "text/plain": [
       "int"
      ]
     },
     "execution_count": 12,
     "metadata": {},
     "output_type": "execute_result"
    }
   ],
   "source": [
    "type(sumOfAandB)"
   ]
  },
  {
   "cell_type": "code",
   "execution_count": 15,
   "id": "f93a4e0f-84b2-4115-ae57-79cce9270a98",
   "metadata": {},
   "outputs": [
    {
     "data": {
      "text/plain": [
       "float"
      ]
     },
     "execution_count": 15,
     "metadata": {},
     "output_type": "execute_result"
    }
   ],
   "source": [
    "type(s+k) "
   ]
  },
  {
   "cell_type": "code",
   "execution_count": 16,
   "id": "72e95d7a-4dd5-45db-909d-8d2e7e051d77",
   "metadata": {},
   "outputs": [
    {
     "data": {
      "text/plain": [
       "float"
      ]
     },
     "execution_count": 16,
     "metadata": {},
     "output_type": "execute_result"
    }
   ],
   "source": [
    "type(a+k)"
   ]
  },
  {
   "cell_type": "markdown",
   "id": "e45f8cc4-bde3-48ba-99d4-eba5a75d1ff8",
   "metadata": {},
   "source": [
    "# 2.Floor division"
   ]
  },
  {
   "cell_type": "code",
   "execution_count": 18,
   "id": "59042e08-c1f7-4803-83f6-cfb95fe4d9e0",
   "metadata": {},
   "outputs": [
    {
     "data": {
      "text/plain": [
       "1"
      ]
     },
     "execution_count": 18,
     "metadata": {},
     "output_type": "execute_result"
    }
   ],
   "source": [
    "b//a  #Return the floor value of after division"
   ]
  },
  {
   "cell_type": "code",
   "execution_count": 19,
   "id": "a98b7fef-2963-418f-9f31-25a65b94f2ee",
   "metadata": {},
   "outputs": [
    {
     "data": {
      "text/plain": [
       "3"
      ]
     },
     "execution_count": 19,
     "metadata": {},
     "output_type": "execute_result"
    }
   ],
   "source": [
    "10//3 #Return the floor value of after division"
   ]
  },
  {
   "cell_type": "code",
   "execution_count": null,
   "id": "fbc08290-1d9d-4fc5-8670-8a583bbcd93c",
   "metadata": {},
   "outputs": [],
   "source": []
  },
  {
   "cell_type": "markdown",
   "id": "67aa915e-33b7-41da-a73b-cdb7a4476c6a",
   "metadata": {},
   "source": [
    "# 3.Subtraction operator"
   ]
  },
  {
   "cell_type": "code",
   "execution_count": 29,
   "id": "97843abf-7439-4d8a-aca4-5ad3603c2513",
   "metadata": {},
   "outputs": [],
   "source": [
    "q=a-b  "
   ]
  },
  {
   "cell_type": "code",
   "execution_count": 30,
   "id": "a094c10e-47bf-4a09-8b7d-b6fbe2a061b2",
   "metadata": {},
   "outputs": [
    {
     "data": {
      "text/plain": [
       "-1"
      ]
     },
     "execution_count": 30,
     "metadata": {},
     "output_type": "execute_result"
    }
   ],
   "source": [
    "q"
   ]
  },
  {
   "cell_type": "markdown",
   "id": "d14b0337-ff15-40be-8773-e1ca0b4dadf5",
   "metadata": {},
   "source": [
    "# 4.Multiplication operator"
   ]
  },
  {
   "cell_type": "code",
   "execution_count": 31,
   "id": "1ed063d6-b259-4000-8c2d-9faf40385c6c",
   "metadata": {},
   "outputs": [],
   "source": [
    "q=a*b "
   ]
  },
  {
   "cell_type": "code",
   "execution_count": 32,
   "id": "0f224afd-f272-49ea-9a73-b6ea388e9650",
   "metadata": {},
   "outputs": [
    {
     "data": {
      "text/plain": [
       "6"
      ]
     },
     "execution_count": 32,
     "metadata": {},
     "output_type": "execute_result"
    }
   ],
   "source": [
    "q"
   ]
  },
  {
   "cell_type": "code",
   "execution_count": 38,
   "id": "c2eb2f5b-a281-4b5d-9611-0463c0e2d7bd",
   "metadata": {},
   "outputs": [],
   "source": [
    "w=l*a"
   ]
  },
  {
   "cell_type": "code",
   "execution_count": 39,
   "id": "0e721a62-d16a-4436-bcee-0322365868f4",
   "metadata": {},
   "outputs": [
    {
     "data": {
      "text/plain": [
       "136"
      ]
     },
     "execution_count": 39,
     "metadata": {},
     "output_type": "execute_result"
    }
   ],
   "source": [
    "w"
   ]
  },
  {
   "cell_type": "markdown",
   "id": "fadd83de-9358-4ce3-b476-4e3d65563fea",
   "metadata": {},
   "source": [
    "# 5.Division operator"
   ]
  },
  {
   "cell_type": "code",
   "execution_count": 40,
   "id": "f8516b1d-889b-426d-be8e-98f2629494a1",
   "metadata": {},
   "outputs": [
    {
     "data": {
      "text/plain": [
       "3.3333333333333335"
      ]
     },
     "execution_count": 40,
     "metadata": {},
     "output_type": "execute_result"
    }
   ],
   "source": [
    "10/3 #Return the value after division"
   ]
  },
  {
   "cell_type": "code",
   "execution_count": null,
   "id": "6197328d-9d09-43a7-9ed3-c83dddc7765a",
   "metadata": {},
   "outputs": [],
   "source": []
  },
  {
   "cell_type": "markdown",
   "id": "40da4542-1016-41ce-8466-066728b12b8a",
   "metadata": {},
   "source": [
    "# 6.Modulus operator"
   ]
  },
  {
   "cell_type": "code",
   "execution_count": 45,
   "id": "61d7fdfc-39da-4566-8973-eade084e143e",
   "metadata": {},
   "outputs": [],
   "source": [
    "stsrk=20%4"
   ]
  },
  {
   "cell_type": "code",
   "execution_count": 46,
   "id": "496e5995-dd6c-4f8a-8a15-1147e6ea7815",
   "metadata": {},
   "outputs": [
    {
     "data": {
      "text/plain": [
       "0"
      ]
     },
     "execution_count": 46,
     "metadata": {},
     "output_type": "execute_result"
    }
   ],
   "source": [
    "stsrk"
   ]
  },
  {
   "cell_type": "code",
   "execution_count": 47,
   "id": "e82d3834-7eb3-4249-89ca-db302615b769",
   "metadata": {},
   "outputs": [],
   "source": [
    "stsrk1=20%3"
   ]
  },
  {
   "cell_type": "code",
   "execution_count": 48,
   "id": "e9b8f77e-4f99-4e5f-87ad-e64182db9c2e",
   "metadata": {},
   "outputs": [
    {
     "data": {
      "text/plain": [
       "2"
      ]
     },
     "execution_count": 48,
     "metadata": {},
     "output_type": "execute_result"
    }
   ],
   "source": [
    "stsrk1"
   ]
  },
  {
   "cell_type": "code",
   "execution_count": null,
   "id": "29b2801c-6ce8-4b05-8d14-a071c1c657f3",
   "metadata": {},
   "outputs": [],
   "source": []
  },
  {
   "cell_type": "markdown",
   "id": "e88945aa-6489-4345-b019-a4b3c0f35f7d",
   "metadata": {},
   "source": [
    "# 7.Exponentiation operator"
   ]
  },
  {
   "cell_type": "code",
   "execution_count": 49,
   "id": "78f3c150-2523-4f3b-9f0c-e707d593d3aa",
   "metadata": {},
   "outputs": [],
   "source": [
    "wide=2**4"
   ]
  },
  {
   "cell_type": "code",
   "execution_count": 50,
   "id": "a6d5f75f-0fec-40f9-a158-95b46cd597c7",
   "metadata": {},
   "outputs": [
    {
     "data": {
      "text/plain": [
       "16"
      ]
     },
     "execution_count": 50,
     "metadata": {},
     "output_type": "execute_result"
    }
   ],
   "source": [
    "wide"
   ]
  },
  {
   "cell_type": "code",
   "execution_count": 51,
   "id": "8b3f811e-79b4-462d-8963-8adbf74f2c0b",
   "metadata": {},
   "outputs": [],
   "source": [
    "wide3=2**2"
   ]
  },
  {
   "cell_type": "code",
   "execution_count": 52,
   "id": "aa4c2cf4-a954-48c6-a645-38221daee07d",
   "metadata": {},
   "outputs": [
    {
     "data": {
      "text/plain": [
       "4"
      ]
     },
     "execution_count": 52,
     "metadata": {},
     "output_type": "execute_result"
    }
   ],
   "source": [
    "wide3"
   ]
  },
  {
   "cell_type": "code",
   "execution_count": null,
   "id": "0d4ad192-990f-4b23-9d89-21f04c04156a",
   "metadata": {},
   "outputs": [],
   "source": []
  },
  {
   "cell_type": "code",
   "execution_count": null,
   "id": "07fbcef6-842c-4345-80d4-5ca28ef71716",
   "metadata": {},
   "outputs": [],
   "source": []
  },
  {
   "cell_type": "code",
   "execution_count": null,
   "id": "5fe27686-90f5-4cae-8b4b-2d05bd502154",
   "metadata": {},
   "outputs": [],
   "source": []
  },
  {
   "cell_type": "code",
   "execution_count": null,
   "id": "9bf1fd52-de87-4916-b08d-9d748f910487",
   "metadata": {},
   "outputs": [],
   "source": []
  },
  {
   "cell_type": "code",
   "execution_count": null,
   "id": "72be98f4-78b7-4a70-b6f1-db747910c93c",
   "metadata": {},
   "outputs": [],
   "source": []
  },
  {
   "cell_type": "code",
   "execution_count": null,
   "id": "03994762-a280-436f-aae9-c229e26beac3",
   "metadata": {},
   "outputs": [],
   "source": []
  }
 ],
 "metadata": {
  "kernelspec": {
   "display_name": "Python [conda env:base] *",
   "language": "python",
   "name": "conda-base-py"
  },
  "language_info": {
   "codemirror_mode": {
    "name": "ipython",
    "version": 3
   },
   "file_extension": ".py",
   "mimetype": "text/x-python",
   "name": "python",
   "nbconvert_exporter": "python",
   "pygments_lexer": "ipython3",
   "version": "3.12.7"
  }
 },
 "nbformat": 4,
 "nbformat_minor": 5
}

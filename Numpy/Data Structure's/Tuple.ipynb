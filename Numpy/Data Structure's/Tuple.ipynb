{
 "cells": [
  {
   "cell_type": "markdown",
   "id": "0390b85e-b853-4512-a819-bf3fd7f0daba",
   "metadata": {},
   "source": [
    "# Tuple"
   ]
  },
  {
   "cell_type": "code",
   "execution_count": null,
   "id": "3338431c-b026-4371-977c-5c8cd769bbdd",
   "metadata": {},
   "outputs": [],
   "source": [
    "# Tuple is used to store multiple items in a single variable \n",
    "# Structure: Ordered, immutable sequence.\n",
    "# Implementation: Similar to lists but fixed size.\n",
    "# Functionality: Stores heterogeneous data, used for read-only collections, can be unpacked, supports indexing.\n",
    "# Can contain duplicate items."
   ]
  },
  {
   "cell_type": "code",
   "execution_count": 1,
   "id": "1781cb11-c3ca-4c96-a161-679f3d762df0",
   "metadata": {},
   "outputs": [],
   "source": [
    "t=(2,3,4,\"Histerli\",\"Grammarly\")"
   ]
  },
  {
   "cell_type": "code",
   "execution_count": 2,
   "id": "1ac2a55e-b378-4299-ab0c-8552fff06c96",
   "metadata": {},
   "outputs": [
    {
     "name": "stdout",
     "output_type": "stream",
     "text": [
      "(2, 3, 4, 'Histerli', 'Grammarly')\n"
     ]
    }
   ],
   "source": [
    "print(t)"
   ]
  },
  {
   "cell_type": "code",
   "execution_count": 3,
   "id": "d80af886-c118-415e-9504-2d06d3dbb49b",
   "metadata": {},
   "outputs": [
    {
     "data": {
      "text/plain": [
       "tuple"
      ]
     },
     "execution_count": 3,
     "metadata": {},
     "output_type": "execute_result"
    }
   ],
   "source": [
    "type(t)                   #Type of t"
   ]
  },
  {
   "cell_type": "code",
   "execution_count": 18,
   "id": "f29c093a-a88e-40b6-a323-8fda28634d36",
   "metadata": {},
   "outputs": [
    {
     "data": {
      "text/plain": [
       "int"
      ]
     },
     "execution_count": 18,
     "metadata": {},
     "output_type": "execute_result"
    }
   ],
   "source": [
    "type(t[2])             #Type of element"
   ]
  },
  {
   "cell_type": "code",
   "execution_count": 4,
   "id": "272888f3-c85d-4332-bae5-f92c091a7d59",
   "metadata": {},
   "outputs": [
    {
     "name": "stdout",
     "output_type": "stream",
     "text": [
      "4\n"
     ]
    }
   ],
   "source": [
    "print(t[2])                # Access through index"
   ]
  },
  {
   "cell_type": "code",
   "execution_count": 6,
   "id": "78f5aadb-6178-4bd7-9714-bc4ccd9f048b",
   "metadata": {},
   "outputs": [
    {
     "name": "stdout",
     "output_type": "stream",
     "text": [
      "('Grammarly', 'Histerli', 4, 3, 2)\n"
     ]
    }
   ],
   "source": [
    "print(t[::-1])         # Reverse the tuple"
   ]
  },
  {
   "cell_type": "code",
   "execution_count": 13,
   "id": "323887a6-73bd-41bf-b408-03f857aa53f9",
   "metadata": {},
   "outputs": [
    {
     "name": "stdout",
     "output_type": "stream",
     "text": [
      "5\n"
     ]
    }
   ],
   "source": [
    "print(len(t))         #Length of the tuple"
   ]
  },
  {
   "cell_type": "code",
   "execution_count": 14,
   "id": "f758c9b6-d6cf-4116-b0cf-111cf3cf463b",
   "metadata": {},
   "outputs": [],
   "source": [
    "tuplet=tuple((\"Appil\",\"Mengo\",\"Orange\"))    #tuple using constructor"
   ]
  },
  {
   "cell_type": "code",
   "execution_count": 15,
   "id": "a86463fa-5ebe-40aa-9510-f4789638b62e",
   "metadata": {},
   "outputs": [
    {
     "name": "stdout",
     "output_type": "stream",
     "text": [
      "('Appil', 'Mengo', 'Orange')\n"
     ]
    }
   ],
   "source": [
    "print(tuplet)"
   ]
  },
  {
   "cell_type": "code",
   "execution_count": 16,
   "id": "c14d2cee-d3e8-4cdf-9761-083f16db4977",
   "metadata": {},
   "outputs": [],
   "source": [
    "thistuple = (\"apple\", \"banana\", \"cherry\", \"apple\", \"cherry\")     #Allow duplicates"
   ]
  },
  {
   "cell_type": "code",
   "execution_count": 17,
   "id": "27cd42f0-be28-43f4-aed2-3cfecbbcdf61",
   "metadata": {},
   "outputs": [
    {
     "name": "stdout",
     "output_type": "stream",
     "text": [
      "('apple', 'banana', 'cherry', 'apple', 'cherry')\n"
     ]
    }
   ],
   "source": [
    "print(thistuple)"
   ]
  },
  {
   "cell_type": "code",
   "execution_count": null,
   "id": "5787f4fd-e9cc-4306-b322-8e71de7b759a",
   "metadata": {},
   "outputs": [],
   "source": []
  },
  {
   "cell_type": "code",
   "execution_count": null,
   "id": "6328da69-cfc9-49dc-904b-23574cea02ca",
   "metadata": {},
   "outputs": [],
   "source": [
    "# Check if an Item Exists in the Tuple"
   ]
  },
  {
   "cell_type": "code",
   "execution_count": 19,
   "id": "397c250c-ddcf-4d36-a1a8-6d311ef2b7ea",
   "metadata": {},
   "outputs": [],
   "source": [
    "tup=(\"Conrad\", \"Belly\", 67,89,\"Eathen\")"
   ]
  },
  {
   "cell_type": "code",
   "execution_count": 22,
   "id": "f7343441-0468-4ce0-acc0-2f544f3eeaaf",
   "metadata": {},
   "outputs": [
    {
     "data": {
      "text/plain": [
       "True"
      ]
     },
     "execution_count": 22,
     "metadata": {},
     "output_type": "execute_result"
    }
   ],
   "source": [
    "\"Conrad\" in tup"
   ]
  },
  {
   "cell_type": "markdown",
   "id": "c1224aa1-5c6f-4473-804f-c9f0f08ebec5",
   "metadata": {},
   "source": [
    "# Change Tuple Items\n",
    "Python Tuples are immutable - we cannot change the items of a tuple once created."
   ]
  },
  {
   "cell_type": "code",
   "execution_count": 23,
   "id": "a543b69f-845e-4a10-a0af-cc100e9478e3",
   "metadata": {},
   "outputs": [],
   "source": [
    "fruits = ('apple', 'cherry', 'orange')"
   ]
  },
  {
   "cell_type": "code",
   "execution_count": 24,
   "id": "fb9bcf4e-b751-4f8a-9e4f-3630849bb0da",
   "metadata": {},
   "outputs": [
    {
     "ename": "TypeError",
     "evalue": "'tuple' object does not support item assignment",
     "output_type": "error",
     "traceback": [
      "\u001b[1;31m---------------------------------------------------------------------------\u001b[0m",
      "\u001b[1;31mTypeError\u001b[0m                                 Traceback (most recent call last)",
      "Cell \u001b[1;32mIn[24], line 1\u001b[0m\n\u001b[1;32m----> 1\u001b[0m fruits[\u001b[38;5;241m1\u001b[39m] \u001b[38;5;241m=\u001b[39m \u001b[38;5;124m'\u001b[39m\u001b[38;5;124mbanana\u001b[39m\u001b[38;5;124m'\u001b[39m\n",
      "\u001b[1;31mTypeError\u001b[0m: 'tuple' object does not support item assignment"
     ]
    }
   ],
   "source": [
    "fruits[1] = 'banana'"
   ]
  },
  {
   "cell_type": "markdown",
   "id": "abde0cd7-75b5-4623-a88b-291a2683e806",
   "metadata": {},
   "source": [
    "# Deletion in Tuple\n",
    "We cannot delete individual items of a tuple. However, we can delete the tuple itself using the del statement. For example,"
   ]
  },
  {
   "cell_type": "code",
   "execution_count": 26,
   "id": "a43f967a-a680-42ef-8864-683c427ab8b6",
   "metadata": {},
   "outputs": [],
   "source": [
    "animals = ('dog', 'cat', 'rat')"
   ]
  },
  {
   "cell_type": "code",
   "execution_count": 29,
   "id": "d0a7d80b-caf2-4e3c-8fb5-521460145519",
   "metadata": {},
   "outputs": [],
   "source": [
    "del animals"
   ]
  }
 ],
 "metadata": {
  "kernelspec": {
   "display_name": "Python [conda env:base] *",
   "language": "python",
   "name": "conda-base-py"
  },
  "language_info": {
   "codemirror_mode": {
    "name": "ipython",
    "version": 3
   },
   "file_extension": ".py",
   "mimetype": "text/x-python",
   "name": "python",
   "nbconvert_exporter": "python",
   "pygments_lexer": "ipython3",
   "version": "3.12.7"
  }
 },
 "nbformat": 4,
 "nbformat_minor": 5
}

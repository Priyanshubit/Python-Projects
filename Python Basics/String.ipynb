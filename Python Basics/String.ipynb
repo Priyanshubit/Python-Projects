{
 "cells": [
  {
   "cell_type": "markdown",
   "id": "dbd0d8dc-83ca-4566-a42b-5aee30d3a525",
   "metadata": {},
   "source": [
    "# String"
   ]
  },
  {
   "cell_type": "code",
   "execution_count": 1,
   "id": "aa329394-6769-404f-9dfd-256787871f24",
   "metadata": {},
   "outputs": [],
   "source": [
    "p=\"Python is  a good programming language\"\n",
    "r=\"It is easy to implement and suitable for beginners\""
   ]
  },
  {
   "cell_type": "code",
   "execution_count": 2,
   "id": "e0dbbee6-c9c9-4862-8c46-fdf49b39a894",
   "metadata": {},
   "outputs": [
    {
     "data": {
      "text/plain": [
       "str"
      ]
     },
     "execution_count": 2,
     "metadata": {},
     "output_type": "execute_result"
    }
   ],
   "source": [
    "type(p)"
   ]
  },
  {
   "cell_type": "code",
   "execution_count": null,
   "id": "4d79082d-941c-40ea-84d2-9a49c67fb289",
   "metadata": {},
   "outputs": [],
   "source": []
  },
  {
   "cell_type": "code",
   "execution_count": 3,
   "id": "e019b4be-881e-476c-b580-7ee9ffe39053",
   "metadata": {},
   "outputs": [],
   "source": [
    "s='hello'"
   ]
  },
  {
   "cell_type": "code",
   "execution_count": 4,
   "id": "448a50ad-e132-428f-a9ab-5fc1c2feb544",
   "metadata": {},
   "outputs": [
    {
     "data": {
      "text/plain": [
       "str"
      ]
     },
     "execution_count": 4,
     "metadata": {},
     "output_type": "execute_result"
    }
   ],
   "source": [
    "type(s)"
   ]
  },
  {
   "cell_type": "code",
   "execution_count": null,
   "id": "4c32f7c4-0e4e-4f6e-a7ea-c52489e693d8",
   "metadata": {},
   "outputs": [],
   "source": []
  },
  {
   "cell_type": "code",
   "execution_count": 7,
   "id": "6ed205ea-e906-424a-8f9e-a576545d1daa",
   "metadata": {},
   "outputs": [],
   "source": [
    "i=p+\" \"+ r"
   ]
  },
  {
   "cell_type": "code",
   "execution_count": 8,
   "id": "75a4460d-1157-456d-8bfc-c14f3308912d",
   "metadata": {},
   "outputs": [
    {
     "data": {
      "text/plain": [
       "'Python is  a good programming language It is easy to implement and suitable for beginners'"
      ]
     },
     "execution_count": 8,
     "metadata": {},
     "output_type": "execute_result"
    }
   ],
   "source": [
    "i"
   ]
  },
  {
   "cell_type": "code",
   "execution_count": null,
   "id": "9d56e8bd-8e97-479e-9864-3e3ed2a3decb",
   "metadata": {},
   "outputs": [],
   "source": []
  },
  {
   "cell_type": "code",
   "execution_count": 10,
   "id": "f65f089a-7b6e-45f5-a25c-a8053adad224",
   "metadata": {},
   "outputs": [],
   "source": [
    "a=12    #a is int so it should be parsed before adding into string\n",
    "b=\"price of pack is :\""
   ]
  },
  {
   "cell_type": "code",
   "execution_count": 14,
   "id": "a7e87581-d71f-4292-aa2c-4981c19b6bfe",
   "metadata": {},
   "outputs": [
    {
     "data": {
      "text/plain": [
       "'price of pack is :12'"
      ]
     },
     "execution_count": 14,
     "metadata": {},
     "output_type": "execute_result"
    }
   ],
   "source": [
    "b+str(a)"
   ]
  },
  {
   "cell_type": "code",
   "execution_count": 15,
   "id": "68983423-7d20-44cc-987c-539546ce5b3d",
   "metadata": {},
   "outputs": [
    {
     "name": "stdout",
     "output_type": "stream",
     "text": [
      "The price of pack is : 12\n"
     ]
    }
   ],
   "source": [
    "print(\"The\",b,a)"
   ]
  },
  {
   "cell_type": "code",
   "execution_count": null,
   "id": "57b61726-69c2-4588-b1ed-fd2702027bdd",
   "metadata": {},
   "outputs": [],
   "source": []
  },
  {
   "cell_type": "markdown",
   "id": "b9ae290f-ed59-45c4-b8b6-0bdb217bca88",
   "metadata": {},
   "source": [
    "# Multiline string\n",
    "\n",
    "ml=\"\"\"Hello\n",
    "how are you mate! \"\"\""
   ]
  },
  {
   "cell_type": "code",
   "execution_count": 17,
   "id": "62642c62-5bac-4d8f-9fef-6ad7fde5b2dd",
   "metadata": {},
   "outputs": [
    {
     "name": "stdout",
     "output_type": "stream",
     "text": [
      "Hello\n",
      "how are you mate! \n"
     ]
    }
   ],
   "source": [
    "print(ml)"
   ]
  },
  {
   "cell_type": "code",
   "execution_count": null,
   "id": "60549229-e741-47f5-b823-8a6f2af73673",
   "metadata": {},
   "outputs": [],
   "source": []
  },
  {
   "cell_type": "markdown",
   "id": "b746474e-0aa4-469c-aa40-c75f23b861c5",
   "metadata": {},
   "source": [
    "# Indexing and slicing"
   ]
  },
  {
   "cell_type": "code",
   "execution_count": 18,
   "id": "67fff712-98f2-49c4-b3bd-3f40c06c3bfb",
   "metadata": {},
   "outputs": [],
   "source": [
    "stra=\"Hello this is me and me is this\""
   ]
  },
  {
   "cell_type": "code",
   "execution_count": 20,
   "id": "66bef7a6-17bd-4655-b8ec-df8b6d5677ea",
   "metadata": {},
   "outputs": [
    {
     "data": {
      "text/plain": [
       "'t'"
      ]
     },
     "execution_count": 20,
     "metadata": {},
     "output_type": "execute_result"
    }
   ],
   "source": [
    "stra[6]"
   ]
  },
  {
   "cell_type": "code",
   "execution_count": 21,
   "id": "d8ab6357-5043-436c-ba29-5e5a015d2e2d",
   "metadata": {},
   "outputs": [
    {
     "data": {
      "text/plain": [
       "'lo this'"
      ]
     },
     "execution_count": 21,
     "metadata": {},
     "output_type": "execute_result"
    }
   ],
   "source": [
    "stra[3:10]"
   ]
  },
  {
   "cell_type": "code",
   "execution_count": 22,
   "id": "b3ce3a97-0c4e-4444-8204-07554f05d931",
   "metadata": {},
   "outputs": [
    {
     "data": {
      "text/plain": [
       "'t'"
      ]
     },
     "execution_count": 22,
     "metadata": {},
     "output_type": "execute_result"
    }
   ],
   "source": [
    "stra[-4]    #printing the 4th last word or 4th word from end"
   ]
  },
  {
   "cell_type": "code",
   "execution_count": 23,
   "id": "4ff5bf72-de3c-44bb-8a23-a5ef68377532",
   "metadata": {},
   "outputs": [
    {
     "data": {
      "text/plain": [
       "'s'"
      ]
     },
     "execution_count": 23,
     "metadata": {},
     "output_type": "execute_result"
    }
   ],
   "source": [
    "stra[-6]"
   ]
  },
  {
   "cell_type": "code",
   "execution_count": 34,
   "id": "8467097d-eadf-4e09-befe-d95eb4247966",
   "metadata": {},
   "outputs": [
    {
     "data": {
      "text/plain": [
       "'t si'"
      ]
     },
     "execution_count": 34,
     "metadata": {},
     "output_type": "execute_result"
    }
   ],
   "source": [
    "stra[-4:-8:-1]            #reverse printing the value of string, using -1 to print from backward"
   ]
  },
  {
   "cell_type": "code",
   "execution_count": 36,
   "id": "df331de6-4780-4060-83af-2bf2b8132703",
   "metadata": {},
   "outputs": [
    {
     "data": {
      "text/plain": [
       "'Hloti '"
      ]
     },
     "execution_count": 36,
     "metadata": {},
     "output_type": "execute_result"
    }
   ],
   "source": [
    "stra[0:12:2]         #printing every other element from Start to 12th (11th element)"
   ]
  },
  {
   "cell_type": "code",
   "execution_count": 37,
   "id": "6ffebfe1-0406-4daf-ab48-e648d3b10afe",
   "metadata": {},
   "outputs": [
    {
     "data": {
      "text/plain": [
       "'siht si em dna em si siht olleH'"
      ]
     },
     "execution_count": 37,
     "metadata": {},
     "output_type": "execute_result"
    }
   ],
   "source": [
    "stra[::-1]        #reverse the string"
   ]
  },
  {
   "cell_type": "code",
   "execution_count": 38,
   "id": "416dee91-8802-4c45-8cd9-242890dd6c6a",
   "metadata": {},
   "outputs": [
    {
     "name": "stdout",
     "output_type": "stream",
     "text": [
      "31\n"
     ]
    }
   ],
   "source": [
    "print(len(stra))    #length of the string"
   ]
  },
  {
   "cell_type": "code",
   "execution_count": 39,
   "id": "638ed278-0168-43bf-8153-c8de257d207a",
   "metadata": {},
   "outputs": [
    {
     "name": "stdout",
     "output_type": "stream",
     "text": [
      "12\n"
     ]
    }
   ],
   "source": [
    "print(len(stra[3:15]))"
   ]
  },
  {
   "cell_type": "markdown",
   "id": "249ba7a3-95d9-459f-8f70-6dc7cfcde66b",
   "metadata": {},
   "source": [
    "# Operations on string"
   ]
  },
  {
   "cell_type": "code",
   "execution_count": 46,
   "id": "ed9d0130-68a7-41ff-9084-ce2a0894a2cc",
   "metadata": {},
   "outputs": [],
   "source": [
    "a=\"          This is a string having gaps in front, mid and in the end      \""
   ]
  },
  {
   "cell_type": "code",
   "execution_count": 47,
   "id": "95bbe1b6-27f2-4f40-b25c-7a76e0d1c939",
   "metadata": {},
   "outputs": [
    {
     "data": {
      "text/plain": [
       "'This is a string having gaps in front, mid and in the end'"
      ]
     },
     "execution_count": 47,
     "metadata": {},
     "output_type": "execute_result"
    }
   ],
   "source": [
    "a.strip()"
   ]
  },
  {
   "cell_type": "code",
   "execution_count": 48,
   "id": "2fa3981c-606a-4017-b690-1f77d43846e6",
   "metadata": {},
   "outputs": [
    {
     "data": {
      "text/plain": [
       "'          THIS IS A STRING HAVING GAPS IN FRONT, MID AND IN THE END      '"
      ]
     },
     "execution_count": 48,
     "metadata": {},
     "output_type": "execute_result"
    }
   ],
   "source": [
    "a.upper()"
   ]
  },
  {
   "cell_type": "code",
   "execution_count": 52,
   "id": "7ca7d76e-c1dc-4ba1-9047-ebf7bccfdfc8",
   "metadata": {},
   "outputs": [],
   "source": [
    "b=a.strip()          #Remove all space from front and end"
   ]
  },
  {
   "cell_type": "code",
   "execution_count": 53,
   "id": "488837c3-ec3a-4a3b-9e0a-217fa39abe13",
   "metadata": {},
   "outputs": [
    {
     "name": "stdout",
     "output_type": "stream",
     "text": [
      "This is a string having gaps in front, mid and in the end\n"
     ]
    }
   ],
   "source": [
    "print(b)"
   ]
  },
  {
   "cell_type": "code",
   "execution_count": 55,
   "id": "207c3ea7-a570-462b-a2c8-7eec32ac0215",
   "metadata": {},
   "outputs": [
    {
     "data": {
      "text/plain": [
       "'THIS IS A STRING HAVING GAPS IN FRONT, MID AND IN THE END'"
      ]
     },
     "execution_count": 55,
     "metadata": {},
     "output_type": "execute_result"
    }
   ],
   "source": [
    "b.upper()            #Convert all in uppercase"
   ]
  },
  {
   "cell_type": "code",
   "execution_count": 56,
   "id": "8edcb25d-d207-438c-91c1-d07534ced7c9",
   "metadata": {},
   "outputs": [
    {
     "data": {
      "text/plain": [
       "'This is a string having gaps in front| mid and in the end'"
      ]
     },
     "execution_count": 56,
     "metadata": {},
     "output_type": "execute_result"
    }
   ],
   "source": [
    "b.replace(\",\",\"|\")           #Replace , with |"
   ]
  },
  {
   "cell_type": "code",
   "execution_count": 68,
   "id": "c359f085-92c3-4401-aaa8-87ae152ecaa8",
   "metadata": {},
   "outputs": [],
   "source": [
    "c=\"abc,def,ghi,jkl,34,56,78\""
   ]
  },
  {
   "cell_type": "code",
   "execution_count": 69,
   "id": "24f5b896-e3ce-4a72-b176-2ef666934011",
   "metadata": {},
   "outputs": [
    {
     "data": {
      "text/plain": [
       "'abc,def,ghi,jkl,34,56,78'"
      ]
     },
     "execution_count": 69,
     "metadata": {},
     "output_type": "execute_result"
    }
   ],
   "source": [
    "c"
   ]
  },
  {
   "cell_type": "code",
   "execution_count": 70,
   "id": "d72f872d-5b7d-4e68-adc8-a8ee318e8385",
   "metadata": {},
   "outputs": [
    {
     "data": {
      "text/plain": [
       "'b'"
      ]
     },
     "execution_count": 70,
     "metadata": {},
     "output_type": "execute_result"
    }
   ],
   "source": [
    "c[1]          #First element access"
   ]
  },
  {
   "cell_type": "code",
   "execution_count": 71,
   "id": "292b6e76-d94a-4a7d-b868-fb42859a4d98",
   "metadata": {},
   "outputs": [],
   "source": [
    "l=c.split(\",\")           #Splitting c in objects whenever , appear"
   ]
  },
  {
   "cell_type": "code",
   "execution_count": 72,
   "id": "01df17c5-edf5-4168-8297-67cdc3f648c4",
   "metadata": {},
   "outputs": [
    {
     "data": {
      "text/plain": [
       "['abc', 'def', 'ghi', 'jkl', '34', '56', '78']"
      ]
     },
     "execution_count": 72,
     "metadata": {},
     "output_type": "execute_result"
    }
   ],
   "source": [
    "l"
   ]
  },
  {
   "cell_type": "code",
   "execution_count": 73,
   "id": "bc806272-32bf-4c19-b606-a050bb31d95d",
   "metadata": {},
   "outputs": [
    {
     "data": {
      "text/plain": [
       "'def'"
      ]
     },
     "execution_count": 73,
     "metadata": {},
     "output_type": "execute_result"
    }
   ],
   "source": [
    "l[1]        #First object access"
   ]
  },
  {
   "cell_type": "code",
   "execution_count": 78,
   "id": "001904ca-f875-450c-abe7-3fbc5dbef090",
   "metadata": {},
   "outputs": [
    {
     "data": {
      "text/plain": [
       "True"
      ]
     },
     "execution_count": 78,
     "metadata": {},
     "output_type": "execute_result"
    }
   ],
   "source": [
    "l[1]<l[2]    #Comparing "
   ]
  },
  {
   "cell_type": "code",
   "execution_count": 81,
   "id": "0c1090a7-c3a1-4775-879a-a3b77c0f348c",
   "metadata": {},
   "outputs": [],
   "source": [
    "m=\"hello\"         #First letter in capital"
   ]
  },
  {
   "cell_type": "code",
   "execution_count": 82,
   "id": "4c8012ef-277b-4417-aeb6-b8affc7ab5a9",
   "metadata": {},
   "outputs": [
    {
     "data": {
      "text/plain": [
       "'Hello'"
      ]
     },
     "execution_count": 82,
     "metadata": {},
     "output_type": "execute_result"
    }
   ],
   "source": [
    "m.capitalize()"
   ]
  },
  {
   "cell_type": "markdown",
   "id": "d0697611-cf86-43de-8321-c14317c42537",
   "metadata": {},
   "source": [
    "# Finding substring in str"
   ]
  },
  {
   "cell_type": "code",
   "execution_count": 89,
   "id": "c3577097-1034-412e-b5b6-63111180cb99",
   "metadata": {},
   "outputs": [],
   "source": [
    "k=\"miniature\"      #Str"
   ]
  },
  {
   "cell_type": "code",
   "execution_count": 90,
   "id": "e9e01111-3194-4f79-b5e5-11ba2d2af982",
   "metadata": {},
   "outputs": [
    {
     "data": {
      "text/plain": [
       "True"
      ]
     },
     "execution_count": 90,
     "metadata": {},
     "output_type": "execute_result"
    }
   ],
   "source": [
    "\"a\" in k"
   ]
  },
  {
   "cell_type": "code",
   "execution_count": 92,
   "id": "663fb2ef-8579-46de-a781-45a2fa7d6335",
   "metadata": {},
   "outputs": [
    {
     "data": {
      "text/plain": [
       "True"
      ]
     },
     "execution_count": 92,
     "metadata": {},
     "output_type": "execute_result"
    }
   ],
   "source": [
    "\"in\" in k"
   ]
  },
  {
   "cell_type": "code",
   "execution_count": 91,
   "id": "01e1cea7-8318-4f85-8f5c-207e87305cae",
   "metadata": {},
   "outputs": [
    {
     "data": {
      "text/plain": [
       "True"
      ]
     },
     "execution_count": 91,
     "metadata": {},
     "output_type": "execute_result"
    }
   ],
   "source": [
    "\"a\" in \"abcdef\" "
   ]
  },
  {
   "cell_type": "code",
   "execution_count": 93,
   "id": "ffff49a4-f574-45ab-8a0b-7dbe71d345d0",
   "metadata": {},
   "outputs": [],
   "source": [
    "str1=\"Priyanshu\"\n",
    "str2=\"Pri\""
   ]
  },
  {
   "cell_type": "code",
   "execution_count": 94,
   "id": "c1368ad6-651f-4ce8-8457-b5747bfe235a",
   "metadata": {},
   "outputs": [
    {
     "name": "stdout",
     "output_type": "stream",
     "text": [
      "True\n"
     ]
    }
   ],
   "source": [
    "print(str2 in str1)"
   ]
  },
  {
   "cell_type": "code",
   "execution_count": 95,
   "id": "a040c05d-39ae-4bed-8fb0-902409b4bfb2",
   "metadata": {},
   "outputs": [
    {
     "name": "stdout",
     "output_type": "stream",
     "text": [
      "False\n"
     ]
    }
   ],
   "source": [
    "print(str1 in str2)"
   ]
  },
  {
   "cell_type": "code",
   "execution_count": 96,
   "id": "edb5789c-5a4b-452d-b6a0-d1e965463f82",
   "metadata": {},
   "outputs": [
    {
     "name": "stdout",
     "output_type": "stream",
     "text": [
      "Hello it is me 'hi'\n"
     ]
    }
   ],
   "source": [
    "print(\"Hello it is me 'hi'\")"
   ]
  },
  {
   "cell_type": "code",
   "execution_count": 97,
   "id": "d812526a-9e86-4d4c-bbd0-0ae3d18e73c5",
   "metadata": {},
   "outputs": [
    {
     "name": "stdout",
     "output_type": "stream",
     "text": [
      "This is the new line: \n",
      " New line\n"
     ]
    }
   ],
   "source": [
    "print(\"This is the new line: \\n New line\")"
   ]
  },
  {
   "cell_type": "code",
   "execution_count": 99,
   "id": "775add18-9ccd-4a81-95a4-381ffb13a6ab",
   "metadata": {},
   "outputs": [
    {
     "name": "stdout",
     "output_type": "stream",
     "text": [
      "This is a space \t: oh\n"
     ]
    }
   ],
   "source": [
    "print(\"This is a space \\t: oh\")"
   ]
  }
 ],
 "metadata": {
  "kernelspec": {
   "display_name": "Python [conda env:base] *",
   "language": "python",
   "name": "conda-base-py"
  },
  "language_info": {
   "codemirror_mode": {
    "name": "ipython",
    "version": 3
   },
   "file_extension": ".py",
   "mimetype": "text/x-python",
   "name": "python",
   "nbconvert_exporter": "python",
   "pygments_lexer": "ipython3",
   "version": "3.12.7"
  }
 },
 "nbformat": 4,
 "nbformat_minor": 5
}

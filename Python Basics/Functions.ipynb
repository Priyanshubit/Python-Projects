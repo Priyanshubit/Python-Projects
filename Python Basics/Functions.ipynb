{
 "cells": [
  {
   "cell_type": "markdown",
   "id": "9731dc4d-9934-4b94-9bc0-60f3a92640b1",
   "metadata": {},
   "source": [
    "# Function"
   ]
  },
  {
   "cell_type": "code",
   "execution_count": 11,
   "id": "7d34e918-3c28-46e3-829c-84c3cd2f8968",
   "metadata": {},
   "outputs": [],
   "source": [
    "def printSucess():\n",
    "    print(\"I am successful now\")\n",
    "    print(\"work done\")"
   ]
  },
  {
   "cell_type": "code",
   "execution_count": 12,
   "id": "2ce718a4-e7fd-43a0-bcf2-0ad493ae92bd",
   "metadata": {},
   "outputs": [
    {
     "name": "stdout",
     "output_type": "stream",
     "text": [
      "I am successful now\n",
      "work done\n"
     ]
    }
   ],
   "source": [
    "printSucess()"
   ]
  },
  {
   "cell_type": "code",
   "execution_count": 17,
   "id": "19bc166b-7d2f-428f-9060-1c37a990f3d9",
   "metadata": {},
   "outputs": [],
   "source": [
    "def printArray():\n",
    "    \"this function is used to print an array of number\"\n",
    "    i=1\n",
    "    while(i<11):\n",
    "        if i==11:\n",
    "            break\n",
    "        else:\n",
    "             print(i)\n",
    "             i+=1"
   ]
  },
  {
   "cell_type": "code",
   "execution_count": 18,
   "id": "0832131f-c194-46fc-bc57-7666ca5ff2be",
   "metadata": {
    "scrolled": true
   },
   "outputs": [
    {
     "name": "stdout",
     "output_type": "stream",
     "text": [
      "1\n",
      "2\n",
      "3\n",
      "4\n",
      "5\n",
      "6\n",
      "7\n",
      "8\n",
      "9\n",
      "10\n"
     ]
    }
   ],
   "source": [
    "printArray()"
   ]
  },
  {
   "cell_type": "code",
   "execution_count": null,
   "id": "8a023f15-2a6b-479e-84c6-f1fb0562a9c6",
   "metadata": {},
   "outputs": [],
   "source": [
    "#Function argument"
   ]
  },
  {
   "cell_type": "code",
   "execution_count": 19,
   "id": "aed6a100-323f-42a9-8881-b66dc14ab24a",
   "metadata": {},
   "outputs": [],
   "source": [
    "def printMsg(msg):\n",
    "    print(msg)"
   ]
  },
  {
   "cell_type": "code",
   "execution_count": 20,
   "id": "d235af6e-c9b8-4e6f-a116-88f85c675875",
   "metadata": {},
   "outputs": [
    {
     "name": "stdout",
     "output_type": "stream",
     "text": [
      "Hello\n"
     ]
    }
   ],
   "source": [
    "printMsg(\"Hello\")"
   ]
  },
  {
   "cell_type": "code",
   "execution_count": null,
   "id": "4af4c6e9-c478-4d5e-880f-c366c1ebb98c",
   "metadata": {},
   "outputs": [],
   "source": [
    "#CHeckSum"
   ]
  },
  {
   "cell_type": "code",
   "execution_count": 25,
   "id": "7f019fbc-040c-4284-883e-016073e4e9e2",
   "metadata": {},
   "outputs": [],
   "source": [
    "def calSum(a,b,c):\n",
    "    if isinstance(a,(int,float)) and isinstance(b,(int,float)) and isinstance(c,(int,float)):\n",
    "        print(a+b+c)\n",
    "    else:\n",
    "        print(\"Error: numbers are not in numeric form\")"
   ]
  },
  {
   "cell_type": "code",
   "execution_count": 26,
   "id": "9e6e1710-9e1b-42ad-871d-aa42e060675b",
   "metadata": {},
   "outputs": [
    {
     "name": "stdout",
     "output_type": "stream",
     "text": [
      "18\n"
     ]
    }
   ],
   "source": [
    "calSum(6,4,8)"
   ]
  },
  {
   "cell_type": "code",
   "execution_count": 27,
   "id": "1803e53b-d6ad-4c44-b759-37a7bb65f479",
   "metadata": {},
   "outputs": [
    {
     "name": "stdout",
     "output_type": "stream",
     "text": [
      "18.4\n"
     ]
    }
   ],
   "source": [
    "calSum(6,4.4,8)"
   ]
  },
  {
   "cell_type": "code",
   "execution_count": null,
   "id": "6bff8674-080b-4d32-9492-221690168f58",
   "metadata": {},
   "outputs": [],
   "source": []
  },
  {
   "cell_type": "markdown",
   "id": "9c7807f0-5ba5-4e3f-865b-9e207ef44774",
   "metadata": {},
   "source": [
    "# Return statement"
   ]
  },
  {
   "cell_type": "code",
   "execution_count": 34,
   "id": "01a5066c-c603-4a39-a9aa-42b109e6ab99",
   "metadata": {},
   "outputs": [],
   "source": [
    "def myadd(a,b):\n",
    "    sum=a+b\n",
    "    return sum"
   ]
  },
  {
   "cell_type": "code",
   "execution_count": 35,
   "id": "b3675ee9-7f50-4183-8a26-e8a2f8de9706",
   "metadata": {},
   "outputs": [
    {
     "data": {
      "text/plain": [
       "9"
      ]
     },
     "execution_count": 35,
     "metadata": {},
     "output_type": "execute_result"
    }
   ],
   "source": [
    "myadd(4,5)"
   ]
  },
  {
   "cell_type": "code",
   "execution_count": 36,
   "id": "f484c3fc-5c46-4f75-92d9-71611b2e4425",
   "metadata": {},
   "outputs": [],
   "source": [
    "varaibleoutsidethefunc=9\n",
    "def printP():\n",
    "    print(varaibleoutsidethefunc)"
   ]
  },
  {
   "cell_type": "code",
   "execution_count": 37,
   "id": "2957d92b-8c54-412d-83c0-3f58e00d60a0",
   "metadata": {},
   "outputs": [
    {
     "name": "stdout",
     "output_type": "stream",
     "text": [
      "9\n"
     ]
    }
   ],
   "source": [
    "printP()"
   ]
  },
  {
   "cell_type": "code",
   "execution_count": 40,
   "id": "1ee799ec-4af2-4020-9a12-f48f8267371b",
   "metadata": {},
   "outputs": [],
   "source": [
    "def h():\n",
    "    a,b,c=8,4,9\n",
    "    return a,c"
   ]
  },
  {
   "cell_type": "code",
   "execution_count": 41,
   "id": "ae9298c6-c524-425f-8074-29b707bfaa64",
   "metadata": {},
   "outputs": [
    {
     "data": {
      "text/plain": [
       "(8, 9)"
      ]
     },
     "execution_count": 41,
     "metadata": {},
     "output_type": "execute_result"
    }
   ],
   "source": [
    "h()"
   ]
  },
  {
   "cell_type": "code",
   "execution_count": null,
   "id": "0920ee2a-e17e-437d-8b7b-d80991d4976c",
   "metadata": {},
   "outputs": [],
   "source": [
    "#undefine parameters"
   ]
  },
  {
   "cell_type": "code",
   "execution_count": 47,
   "id": "949da073-9efa-4394-b690-e80fd04f2587",
   "metadata": {},
   "outputs": [],
   "source": [
    "def add(*args):\n",
    "    sum=0\n",
    "    for i in range(len(args)):\n",
    "        sum=sum+args[i]\n",
    "    return sum"
   ]
  },
  {
   "cell_type": "code",
   "execution_count": 49,
   "id": "adb6cb10-df7d-430f-a987-29282bcf90bb",
   "metadata": {},
   "outputs": [
    {
     "data": {
      "text/plain": [
       "141"
      ]
     },
     "execution_count": 49,
     "metadata": {},
     "output_type": "execute_result"
    }
   ],
   "source": [
    "add(22,3,4,45,67)"
   ]
  },
  {
   "cell_type": "code",
   "execution_count": null,
   "id": "ef580a3b-7a5a-4d59-a970-1687824c64ef",
   "metadata": {},
   "outputs": [],
   "source": [
    "# Default parameters"
   ]
  },
  {
   "cell_type": "code",
   "execution_count": 50,
   "id": "54ca0137-c16f-494a-b5c9-fd2519042b93",
   "metadata": {},
   "outputs": [],
   "source": [
    "def myBar(sum=14):\n",
    "    print(sum)"
   ]
  },
  {
   "cell_type": "code",
   "execution_count": 52,
   "id": "1f67684f-6ed5-4afb-87dd-4a35bd73a396",
   "metadata": {},
   "outputs": [
    {
     "name": "stdout",
     "output_type": "stream",
     "text": [
      "14\n"
     ]
    }
   ],
   "source": [
    "myBar()"
   ]
  },
  {
   "cell_type": "code",
   "execution_count": 53,
   "id": "872380f0-bba5-46dd-81c5-1e9dc2a17dcd",
   "metadata": {},
   "outputs": [
    {
     "name": "stdout",
     "output_type": "stream",
     "text": [
      "22\n"
     ]
    }
   ],
   "source": [
    "myBar(22)"
   ]
  },
  {
   "cell_type": "code",
   "execution_count": 54,
   "id": "8b222e56-888a-4d8e-a8d4-510c3899152c",
   "metadata": {},
   "outputs": [],
   "source": [
    "l=[2,5,19]\n",
    "l2=l\n",
    "l2[0]=-9"
   ]
  },
  {
   "cell_type": "code",
   "execution_count": 55,
   "id": "35686249-4e6e-4e8c-bd8e-be32ac6de7d0",
   "metadata": {},
   "outputs": [
    {
     "data": {
      "text/plain": [
       "[-9, 5, 19]"
      ]
     },
     "execution_count": 55,
     "metadata": {},
     "output_type": "execute_result"
    }
   ],
   "source": [
    "l"
   ]
  }
 ],
 "metadata": {
  "kernelspec": {
   "display_name": "Python [conda env:base] *",
   "language": "python",
   "name": "conda-base-py"
  },
  "language_info": {
   "codemirror_mode": {
    "name": "ipython",
    "version": 3
   },
   "file_extension": ".py",
   "mimetype": "text/x-python",
   "name": "python",
   "nbconvert_exporter": "python",
   "pygments_lexer": "ipython3",
   "version": "3.12.7"
  }
 },
 "nbformat": 4,
 "nbformat_minor": 5
}
